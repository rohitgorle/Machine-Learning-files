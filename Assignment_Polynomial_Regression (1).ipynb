{
 "cells": [
  {
   "cell_type": "code",
   "execution_count": 1,
   "id": "921e03ec",
   "metadata": {},
   "outputs": [],
   "source": [
    "import pandas as pd\n",
    "import numpy as np\n",
    "import matplotlib.pyplot as plt"
   ]
  },
  {
   "cell_type": "code",
   "execution_count": 2,
   "id": "4cd0b4d0",
   "metadata": {},
   "outputs": [],
   "source": [
    "df = pd.read_csv('https://s3.us-west-2.amazonaws.com/public.gamelab.fun/dataset/position_salaries.csv')"
   ]
  },
  {
   "cell_type": "code",
   "execution_count": 108,
   "id": "09d71912",
   "metadata": {},
   "outputs": [
    {
     "data": {
      "text/html": [
       "<div>\n",
       "<style scoped>\n",
       "    .dataframe tbody tr th:only-of-type {\n",
       "        vertical-align: middle;\n",
       "    }\n",
       "\n",
       "    .dataframe tbody tr th {\n",
       "        vertical-align: top;\n",
       "    }\n",
       "\n",
       "    .dataframe thead th {\n",
       "        text-align: right;\n",
       "    }\n",
       "</style>\n",
       "<table border=\"1\" class=\"dataframe\">\n",
       "  <thead>\n",
       "    <tr style=\"text-align: right;\">\n",
       "      <th></th>\n",
       "      <th>Position</th>\n",
       "      <th>Level</th>\n",
       "      <th>Salary</th>\n",
       "    </tr>\n",
       "  </thead>\n",
       "  <tbody>\n",
       "    <tr>\n",
       "      <th>0</th>\n",
       "      <td>Business Analyst</td>\n",
       "      <td>1</td>\n",
       "      <td>45000</td>\n",
       "    </tr>\n",
       "    <tr>\n",
       "      <th>1</th>\n",
       "      <td>Junior Consultant</td>\n",
       "      <td>2</td>\n",
       "      <td>50000</td>\n",
       "    </tr>\n",
       "    <tr>\n",
       "      <th>2</th>\n",
       "      <td>Senior Consultant</td>\n",
       "      <td>3</td>\n",
       "      <td>60000</td>\n",
       "    </tr>\n",
       "    <tr>\n",
       "      <th>3</th>\n",
       "      <td>Manager</td>\n",
       "      <td>4</td>\n",
       "      <td>80000</td>\n",
       "    </tr>\n",
       "    <tr>\n",
       "      <th>4</th>\n",
       "      <td>Country Manager</td>\n",
       "      <td>5</td>\n",
       "      <td>110000</td>\n",
       "    </tr>\n",
       "    <tr>\n",
       "      <th>5</th>\n",
       "      <td>Region Manager</td>\n",
       "      <td>6</td>\n",
       "      <td>150000</td>\n",
       "    </tr>\n",
       "    <tr>\n",
       "      <th>6</th>\n",
       "      <td>Partner</td>\n",
       "      <td>7</td>\n",
       "      <td>200000</td>\n",
       "    </tr>\n",
       "    <tr>\n",
       "      <th>7</th>\n",
       "      <td>Senior Partner</td>\n",
       "      <td>8</td>\n",
       "      <td>300000</td>\n",
       "    </tr>\n",
       "    <tr>\n",
       "      <th>8</th>\n",
       "      <td>C-level</td>\n",
       "      <td>9</td>\n",
       "      <td>500000</td>\n",
       "    </tr>\n",
       "    <tr>\n",
       "      <th>9</th>\n",
       "      <td>CEO</td>\n",
       "      <td>10</td>\n",
       "      <td>1000000</td>\n",
       "    </tr>\n",
       "  </tbody>\n",
       "</table>\n",
       "</div>"
      ],
      "text/plain": [
       "            Position  Level   Salary\n",
       "0   Business Analyst      1    45000\n",
       "1  Junior Consultant      2    50000\n",
       "2  Senior Consultant      3    60000\n",
       "3            Manager      4    80000\n",
       "4    Country Manager      5   110000\n",
       "5     Region Manager      6   150000\n",
       "6            Partner      7   200000\n",
       "7     Senior Partner      8   300000\n",
       "8            C-level      9   500000\n",
       "9                CEO     10  1000000"
      ]
     },
     "execution_count": 108,
     "metadata": {},
     "output_type": "execute_result"
    }
   ],
   "source": [
    "df.head(10)"
   ]
  },
  {
   "cell_type": "code",
   "execution_count": 6,
   "id": "206d41f3",
   "metadata": {},
   "outputs": [],
   "source": [
    "x = df.Level\n",
    "y = df.Salary"
   ]
  },
  {
   "cell_type": "code",
   "execution_count": 19,
   "id": "ee5efbe2",
   "metadata": {},
   "outputs": [
    {
     "data": {
      "text/plain": [
       "<matplotlib.collections.PathCollection at 0x17e033ebb20>"
      ]
     },
     "execution_count": 19,
     "metadata": {},
     "output_type": "execute_result"
    },
    {
     "data": {
      "image/png": "[encoded data removed]",
      "text/plain": [
       "<Figure size 432x360 with 1 Axes>"
      ]
     },
     "metadata": {
      "needs_background": "light"
     },
     "output_type": "display_data"
    }
   ],
   "source": [
    "plt.figure(figsize=(6,5))\n",
    "plt.scatter(df['Level'],y, color='red')"
   ]
  },
  {
   "cell_type": "code",
   "execution_count": 7,
   "id": "2773941e",
   "metadata": {},
   "outputs": [
    {
     "data": {
      "text/plain": [
       "(0     1\n",
       " 1     2\n",
       " 2     3\n",
       " 3     4\n",
       " 4     5\n",
       " 5     6\n",
       " 6     7\n",
       " 7     8\n",
       " 8     9\n",
       " 9    10\n",
       " Name: Level, dtype: int64,\n",
       " 0      45000\n",
       " 1      50000\n",
       " 2      60000\n",
       " 3      80000\n",
       " 4     110000\n",
       " 5     150000\n",
       " 6     200000\n",
       " 7     300000\n",
       " 8     500000\n",
       " 9    1000000\n",
       " Name: Salary, dtype: int64)"
      ]
     },
     "execution_count": 7,
     "metadata": {},
     "output_type": "execute_result"
    }
   ],
   "source": [
    "x,y"
   ]
  },
  {
   "cell_type": "code",
   "execution_count": null,
   "id": "c17f0b96",
   "metadata": {},
   "outputs": [],
   "source": [
    "from sklearn import linear_model"
   ]
  },
  {
   "cell_type": "code",
   "execution_count": null,
   "id": "3970ab7d",
   "metadata": {},
   "outputs": [],
   "source": [
    "reg = linear_model.LinearRegression()"
   ]
  },
  {
   "cell_type": "code",
   "execution_count": 17,
   "id": "42327bf1",
   "metadata": {},
   "outputs": [
    {
     "data": {
      "text/plain": [
       "LinearRegression()"
      ]
     },
     "execution_count": 17,
     "metadata": {},
     "output_type": "execute_result"
    }
   ],
   "source": [
    "reg.fit(df[['Level']] ,y)"
   ]
  },
  {
   "cell_type": "code",
   "execution_count": 20,
   "id": "152fb7fb",
   "metadata": {},
   "outputs": [],
   "source": [
    "y_pred = reg.predict(df[['Level']])"
   ]
  },
  {
   "cell_type": "code",
   "execution_count": 23,
   "id": "8ec61a92",
   "metadata": {},
   "outputs": [
    {
     "data": {
      "text/plain": [
       "[<matplotlib.lines.Line2D at 0x17e03949760>]"
      ]
     },
     "execution_count": 23,
     "metadata": {},
     "output_type": "execute_result"
    },
    {
     "data": {
      "image/png": "[encoded data removed]",
      "text/plain": [
       "<Figure size 432x360 with 1 Axes>"
      ]
     },
     "metadata": {
      "needs_background": "light"
     },
     "output_type": "display_data"
    }
   ],
   "source": [
    "plt.figure(figsize=(6,5))\n",
    "plt.scatter(df['Level'],y, color='red')\n",
    "plt.plot(df['Level'],y_pred, color='blue')"
   ]
  },
  {
   "cell_type": "markdown",
   "id": "d4132d75",
   "metadata": {},
   "source": [
    "### So as we can see that linear regression will have have mean square error so we will use polimonial regression in this case"
   ]
  },
  {
   "cell_type": "code",
   "execution_count": 88,
   "id": "55fc6dcc",
   "metadata": {},
   "outputs": [],
   "source": [
    "from sklearn.preprocessing import PolynomialFeatures"
   ]
  },
  {
   "cell_type": "markdown",
   "id": "b5e39de1",
   "metadata": {},
   "source": [
    "### For degree = 2"
   ]
  },
  {
   "cell_type": "code",
   "execution_count": 89,
   "id": "f98ddb11",
   "metadata": {},
   "outputs": [],
   "source": [
    "poly_2 = PolynomialFeatures(degree=2)"
   ]
  },
  {
   "cell_type": "code",
   "execution_count": 90,
   "id": "ddbb782f",
   "metadata": {},
   "outputs": [],
   "source": [
    "x_poly = poly_2.fit_transform(df[['Level']])"
   ]
  },
  {
   "cell_type": "code",
   "execution_count": 91,
   "id": "91ca2b49",
   "metadata": {},
   "outputs": [],
   "source": [
    "reg2 = linear_model.LinearRegression()"
   ]
  },
  {
   "cell_type": "code",
   "execution_count": 92,
   "id": "8e53a3b0",
   "metadata": {
    "scrolled": true
   },
   "outputs": [
    {
     "data": {
      "text/plain": [
       "LinearRegression()"
      ]
     },
     "execution_count": 92,
     "metadata": {},
     "output_type": "execute_result"
    }
   ],
   "source": [
    "reg2.fit(x_poly,y)"
   ]
  },
  {
   "cell_type": "code",
   "execution_count": 93,
   "id": "08f590fd",
   "metadata": {},
   "outputs": [],
   "source": [
    "y_poly_2 = reg2.predict(x_poly)"
   ]
  },
  {
   "cell_type": "code",
   "execution_count": 94,
   "id": "764e3c80",
   "metadata": {},
   "outputs": [
    {
     "data": {
      "text/plain": [
       "array([118727.27272727,  44151.51515152,   8439.39393939,  11590.90909091,\n",
       "        53606.06060606, 134484.84848485, 254227.27272727, 412833.33333333,\n",
       "       610303.03030303, 846636.36363636])"
      ]
     },
     "execution_count": 94,
     "metadata": {},
     "output_type": "execute_result"
    }
   ],
   "source": [
    "y_poly_2"
   ]
  },
  {
   "cell_type": "code",
   "execution_count": 95,
   "id": "7d565c1f",
   "metadata": {},
   "outputs": [
    {
     "data": {
      "text/plain": [
       "[<matplotlib.lines.Line2D at 0x17e0545d820>]"
      ]
     },
     "execution_count": 95,
     "metadata": {},
     "output_type": "execute_result"
    },
    {
     "data": {
      "image/png": "[encoded data removed]",
      "text/plain": [
       "<Figure size 432x360 with 1 Axes>"
      ]
     },
     "metadata": {
      "needs_background": "light"
     },
     "output_type": "display_data"
    }
   ],
   "source": [
    "plt.figure(figsize=(6,5))\n",
    "plt.scatter(df['Level'],y, color='red')\n",
    "plt.plot(df['Level'],y_poly_2, color='blue')"
   ]
  },
  {
   "cell_type": "markdown",
   "id": "9240fe40",
   "metadata": {},
   "source": [
    "### Predict the salary at year of experience 7 14,5 "
   ]
  },
  {
   "cell_type": "code",
   "execution_count": 107,
   "id": "3f7306f6",
   "metadata": {},
   "outputs": [
    {
     "data": {
      "text/plain": [
       "array([254227.27272727])"
      ]
     },
     "execution_count": 107,
     "metadata": {},
     "output_type": "execute_result"
    }
   ],
   "source": [
    "reg2.predict(poly_2.fit_transform([[7]]))"
   ]
  },
  {
   "cell_type": "code",
   "execution_count": 109,
   "id": "93823393",
   "metadata": {},
   "outputs": [
    {
     "data": {
      "text/plain": [
       "array([2180606.06060606])"
      ]
     },
     "execution_count": 109,
     "metadata": {},
     "output_type": "execute_result"
    }
   ],
   "source": [
    "reg2.predict(poly_2.fit_transform([[14]]))"
   ]
  },
  {
   "cell_type": "code",
   "execution_count": 110,
   "id": "414460a8",
   "metadata": {},
   "outputs": [
    {
     "data": {
      "text/plain": [
       "array([53606.06060606])"
      ]
     },
     "execution_count": 110,
     "metadata": {},
     "output_type": "execute_result"
    }
   ],
   "source": [
    "reg2.predict(poly_2.fit_transform([[5]]))"
   ]
  },
  {
   "cell_type": "markdown",
   "id": "656fe9e4",
   "metadata": {},
   "source": [
    "### R2_score"
   ]
  },
  {
   "cell_type": "code",
   "execution_count": 122,
   "id": "7bbc9a97",
   "metadata": {},
   "outputs": [],
   "source": [
    "def r2_score_(actual, predicted):\n",
    "    ''' by using formula for r2_score = 1 - square of sdifference of actual y and predicted y / square of difference of actual y and mean y'''\n",
    "    return 1-(((actual - predicted)*(actual - predicted)).sum()/((actual - actual.mean())*(actual - actual.mean())).sum())"
   ]
  },
  {
   "cell_type": "code",
   "execution_count": 123,
   "id": "8362f0c5",
   "metadata": {},
   "outputs": [
    {
     "data": {
      "text/plain": [
       "0.9162082221443943"
      ]
     },
     "execution_count": 123,
     "metadata": {},
     "output_type": "execute_result"
    }
   ],
   "source": [
    "r2_score_(y,y_poly_2)"
   ]
  },
  {
   "cell_type": "markdown",
   "id": "6ab866b3",
   "metadata": {},
   "source": [
    "### For degree = 3"
   ]
  },
  {
   "cell_type": "code",
   "execution_count": 60,
   "id": "111a9236",
   "metadata": {},
   "outputs": [],
   "source": [
    "poly_3 = PolynomialFeatures(degree=3)\n",
    "x_poly_3 = poly_3.fit_transform(df[['Level']])\n",
    "reg3 = linear_model.LinearRegression()\n",
    "reg3.fit(x_poly_3,y)\n",
    "y_poly_3 = reg3.predict(x_poly_3)"
   ]
  },
  {
   "cell_type": "code",
   "execution_count": 61,
   "id": "c08e71a5",
   "metadata": {},
   "outputs": [
    {
     "data": {
      "text/plain": [
       "[<matplotlib.lines.Line2D at 0x17e027f8e50>]"
      ]
     },
     "execution_count": 61,
     "metadata": {},
     "output_type": "execute_result"
    },
    {
     "data": {
      "image/png": "[encoded data removed]",
      "text/plain": [
       "<Figure size 432x360 with 1 Axes>"
      ]
     },
     "metadata": {
      "needs_background": "light"
     },
     "output_type": "display_data"
    }
   ],
   "source": [
    "plt.figure(figsize=(6,5))\n",
    "plt.scatter(df['Level'],y, color='red')\n",
    "plt.plot(df['Level'],y_poly_3, color='blue')"
   ]
  },
  {
   "cell_type": "markdown",
   "id": "62d772b7",
   "metadata": {},
   "source": [
    "### Predict the salary at year of experience 7 14,5"
   ]
  },
  {
   "cell_type": "code",
   "execution_count": 111,
   "id": "cda46f2d",
   "metadata": {},
   "outputs": [
    {
     "data": {
      "text/plain": [
       "array([177594.40559441])"
      ]
     },
     "execution_count": 111,
     "metadata": {},
     "output_type": "execute_result"
    }
   ],
   "source": [
    "reg3.predict(poly_3.fit_transform([[7]]))"
   ]
  },
  {
   "cell_type": "code",
   "execution_count": 112,
   "id": "5c239627",
   "metadata": {},
   "outputs": [
    {
     "data": {
      "text/plain": [
       "array([4197780.88578078])"
      ]
     },
     "execution_count": 112,
     "metadata": {},
     "output_type": "execute_result"
    }
   ],
   "source": [
    "reg3.predict(poly_3.fit_transform([[14]]))"
   ]
  },
  {
   "cell_type": "code",
   "execution_count": 113,
   "id": "e807b959",
   "metadata": {},
   "outputs": [
    {
     "data": {
      "text/plain": [
       "array([83270.3962704])"
      ]
     },
     "execution_count": 113,
     "metadata": {},
     "output_type": "execute_result"
    }
   ],
   "source": [
    "reg3.predict(poly_3.fit_transform([[5]]))"
   ]
  },
  {
   "cell_type": "markdown",
   "id": "30a564bd",
   "metadata": {},
   "source": [
    "### R2_score"
   ]
  },
  {
   "cell_type": "code",
   "execution_count": 124,
   "id": "ba104754",
   "metadata": {},
   "outputs": [
    {
     "data": {
      "text/plain": [
       "0.9812097727913367"
      ]
     },
     "execution_count": 124,
     "metadata": {},
     "output_type": "execute_result"
    }
   ],
   "source": [
    "r2_score_(y,y_poly_3)"
   ]
  },
  {
   "cell_type": "markdown",
   "id": "fdd0fd5b",
   "metadata": {},
   "source": [
    "### For degree = 4"
   ]
  },
  {
   "cell_type": "code",
   "execution_count": 114,
   "id": "b3f32742",
   "metadata": {},
   "outputs": [],
   "source": [
    "poly_4 = PolynomialFeatures(degree=4)\n",
    "x_poly_4 = poly_4.fit_transform(df[['Level']])\n",
    "reg4 = linear_model.LinearRegression()\n",
    "reg4.fit(x_poly_4,y)\n",
    "y_poly_4 = reg4.predict(x_poly_4)"
   ]
  },
  {
   "cell_type": "code",
   "execution_count": 115,
   "id": "8290efe6",
   "metadata": {},
   "outputs": [
    {
     "data": {
      "text/plain": [
       "[<matplotlib.lines.Line2D at 0x17e0587d190>]"
      ]
     },
     "execution_count": 115,
     "metadata": {},
     "output_type": "execute_result"
    },
    {
     "data": {
      "image/png": "[encoded data removed]",
      "text/plain": [
       "<Figure size 432x360 with 1 Axes>"
      ]
     },
     "metadata": {
      "needs_background": "light"
     },
     "output_type": "display_data"
    }
   ],
   "source": [
    "plt.figure(figsize=(6,5))\n",
    "plt.scatter(df['Level'],y, color='red')\n",
    "plt.plot(df['Level'],y_poly_4, color='blue')"
   ]
  },
  {
   "cell_type": "markdown",
   "id": "a3bd4dca",
   "metadata": {},
   "source": [
    "#### The model is started overfitting now let us try till 10"
   ]
  },
  {
   "cell_type": "markdown",
   "id": "ea5a1cf2",
   "metadata": {},
   "source": [
    "### Predict the salary at year of experience 7 14,5"
   ]
  },
  {
   "cell_type": "code",
   "execution_count": 118,
   "id": "004107f9",
   "metadata": {},
   "outputs": [
    {
     "data": {
      "text/plain": [
       "array([184003.49650349])"
      ]
     },
     "execution_count": 118,
     "metadata": {},
     "output_type": "execute_result"
    }
   ],
   "source": [
    "reg4.predict(poly_4.fit_transform([[7]]))"
   ]
  },
  {
   "cell_type": "code",
   "execution_count": 119,
   "id": "8948e0f5",
   "metadata": {},
   "outputs": [
    {
     "data": {
      "text/plain": [
       "array([7568962.7039636])"
      ]
     },
     "execution_count": 119,
     "metadata": {},
     "output_type": "execute_result"
    }
   ],
   "source": [
    "reg4.predict(poly_4.fit_transform([[14]]))"
   ]
  },
  {
   "cell_type": "code",
   "execution_count": 120,
   "id": "bbc954ef",
   "metadata": {},
   "outputs": [
    {
     "data": {
      "text/plain": [
       "array([121724.94172498])"
      ]
     },
     "execution_count": 120,
     "metadata": {},
     "output_type": "execute_result"
    }
   ],
   "source": [
    "reg4.predict(poly_4.fit_transform([[5]]))"
   ]
  },
  {
   "cell_type": "markdown",
   "id": "e8e80fa9",
   "metadata": {},
   "source": [
    "### R2_score"
   ]
  },
  {
   "cell_type": "code",
   "execution_count": 125,
   "id": "3230f1c5",
   "metadata": {},
   "outputs": [
    {
     "data": {
      "text/plain": [
       "0.9973922891706614"
      ]
     },
     "execution_count": 125,
     "metadata": {},
     "output_type": "execute_result"
    }
   ],
   "source": [
    "r2_score_(y,y_poly_4)"
   ]
  },
  {
   "cell_type": "markdown",
   "id": "9db07a81",
   "metadata": {},
   "source": [
    "### For degree = 5"
   ]
  },
  {
   "cell_type": "code",
   "execution_count": 68,
   "id": "ca09f546",
   "metadata": {},
   "outputs": [],
   "source": [
    "poly_4 = PolynomialFeatures(degree=5)\n",
    "x_poly_4 = poly_4.fit_transform(df[['Level']])\n",
    "reg4 = linear_model.LinearRegression()\n",
    "reg4.fit(x_poly_4,y)\n",
    "y_poly_4 = reg4.predict(x_poly_4)"
   ]
  },
  {
   "cell_type": "code",
   "execution_count": 69,
   "id": "98943c7c",
   "metadata": {},
   "outputs": [
    {
     "data": {
      "text/plain": [
       "[<matplotlib.lines.Line2D at 0x17e0410aa90>]"
      ]
     },
     "execution_count": 69,
     "metadata": {},
     "output_type": "execute_result"
    },
    {
     "data": {
      "image/png": "[encoded data removed]",
      "text/plain": [
       "<Figure size 432x360 with 1 Axes>"
      ]
     },
     "metadata": {
      "needs_background": "light"
     },
     "output_type": "display_data"
    }
   ],
   "source": [
    "plt.figure(figsize=(6,5))\n",
    "plt.scatter(df['Level'],y, color='red')\n",
    "plt.plot(df['Level'],y_poly_4, color='blue')"
   ]
  },
  {
   "cell_type": "markdown",
   "id": "d3b9f6d4",
   "metadata": {},
   "source": [
    "### For degree = 6"
   ]
  },
  {
   "cell_type": "code",
   "execution_count": 71,
   "id": "7125cee4",
   "metadata": {},
   "outputs": [],
   "source": [
    "poly_4 = PolynomialFeatures(degree=6)\n",
    "x_poly_4 = poly_4.fit_transform(df[['Level']])\n",
    "reg4 = linear_model.LinearRegression()\n",
    "reg4.fit(x_poly_4,y)\n",
    "y_poly_4 = reg4.predict(x_poly_4)"
   ]
  },
  {
   "cell_type": "code",
   "execution_count": 72,
   "id": "badc74b9",
   "metadata": {},
   "outputs": [
    {
     "data": {
      "text/plain": [
       "[<matplotlib.lines.Line2D at 0x17e0416e6d0>]"
      ]
     },
     "execution_count": 72,
     "metadata": {},
     "output_type": "execute_result"
    },
    {
     "data": {
      "image/png": "[encoded data removed]",
      "text/plain": [
       "<Figure size 432x360 with 1 Axes>"
      ]
     },
     "metadata": {
      "needs_background": "light"
     },
     "output_type": "display_data"
    }
   ],
   "source": [
    "plt.figure(figsize=(6,5))\n",
    "plt.scatter(df['Level'],y, color='red')\n",
    "plt.plot(df['Level'],y_poly_4, color='blue')"
   ]
  },
  {
   "cell_type": "markdown",
   "id": "3c8a1a24",
   "metadata": {},
   "source": [
    "### For degree = 7"
   ]
  },
  {
   "cell_type": "code",
   "execution_count": 73,
   "id": "cc3ee241",
   "metadata": {},
   "outputs": [],
   "source": [
    "poly_4 = PolynomialFeatures(degree=7)\n",
    "x_poly_4 = poly_4.fit_transform(df[['Level']])\n",
    "reg4 = linear_model.LinearRegression()\n",
    "reg4.fit(x_poly_4,y)\n",
    "y_poly_4 = reg4.predict(x_poly_4)"
   ]
  },
  {
   "cell_type": "code",
   "execution_count": 74,
   "id": "b6c15cb3",
   "metadata": {},
   "outputs": [
    {
     "data": {
      "text/plain": [
       "[<matplotlib.lines.Line2D at 0x17e051a6700>]"
      ]
     },
     "execution_count": 74,
     "metadata": {},
     "output_type": "execute_result"
    },
    {
     "data": {
      "image/png": "[encoded data removed]",
      "text/plain": [
       "<Figure size 432x360 with 1 Axes>"
      ]
     },
     "metadata": {
      "needs_background": "light"
     },
     "output_type": "display_data"
    }
   ],
   "source": [
    "plt.figure(figsize=(6,5))\n",
    "plt.scatter(df['Level'],y, color='red')\n",
    "plt.plot(df['Level'],y_poly_4, color='blue')"
   ]
  },
  {
   "cell_type": "markdown",
   "id": "9a8ab95c",
   "metadata": {},
   "source": [
    "### For degree = 8"
   ]
  },
  {
   "cell_type": "code",
   "execution_count": 77,
   "id": "701465cc",
   "metadata": {},
   "outputs": [],
   "source": [
    "poly_4 = PolynomialFeatures(degree=8)\n",
    "x_poly_4 = poly_4.fit_transform(df[['Level']])\n",
    "reg4 = linear_model.LinearRegression()\n",
    "reg4.fit(x_poly_4,y)\n",
    "y_poly_4 = reg4.predict(x_poly_4)"
   ]
  },
  {
   "cell_type": "code",
   "execution_count": 78,
   "id": "2a1da84e",
   "metadata": {},
   "outputs": [
    {
     "data": {
      "text/plain": [
       "[<matplotlib.lines.Line2D at 0x17e0526b220>]"
      ]
     },
     "execution_count": 78,
     "metadata": {},
     "output_type": "execute_result"
    },
    {
     "data": {
      "image/png": "[encoded data removed]",
      "text/plain": [
       "<Figure size 432x360 with 1 Axes>"
      ]
     },
     "metadata": {
      "needs_background": "light"
     },
     "output_type": "display_data"
    }
   ],
   "source": [
    "plt.figure(figsize=(6,5))\n",
    "plt.scatter(df['Level'],y, color='red')\n",
    "plt.plot(df['Level'],y_poly_4, color='blue')"
   ]
  },
  {
   "cell_type": "markdown",
   "id": "7bf75cd7",
   "metadata": {},
   "source": [
    "### For degree = 9"
   ]
  },
  {
   "cell_type": "code",
   "execution_count": 80,
   "id": "ca46fd49",
   "metadata": {},
   "outputs": [],
   "source": [
    "poly_4 = PolynomialFeatures(degree=9)\n",
    "x_poly_4 = poly_4.fit_transform(df[['Level']])\n",
    "reg4 = linear_model.LinearRegression()\n",
    "reg4.fit(x_poly_4,y)\n",
    "y_poly_4 = reg4.predict(x_poly_4)"
   ]
  },
  {
   "cell_type": "code",
   "execution_count": 81,
   "id": "60cc871c",
   "metadata": {},
   "outputs": [
    {
     "data": {
      "text/plain": [
       "[<matplotlib.lines.Line2D at 0x17e052c1ee0>]"
      ]
     },
     "execution_count": 81,
     "metadata": {},
     "output_type": "execute_result"
    },
    {
     "data": {
      "image/png": "[encoded data removed]",
      "text/plain": [
       "<Figure size 432x360 with 1 Axes>"
      ]
     },
     "metadata": {
      "needs_background": "light"
     },
     "output_type": "display_data"
    }
   ],
   "source": [
    "plt.figure(figsize=(6,5))\n",
    "plt.scatter(df['Level'],y, color='red')\n",
    "plt.plot(df['Level'],y_poly_4, color='blue')"
   ]
  },
  {
   "cell_type": "markdown",
   "id": "51e695e7",
   "metadata": {},
   "source": [
    "### For degree = 10"
   ]
  },
  {
   "cell_type": "code",
   "execution_count": 83,
   "id": "995875e7",
   "metadata": {},
   "outputs": [],
   "source": [
    "poly_4 = PolynomialFeatures(degree=10)\n",
    "x_poly_4 = poly_4.fit_transform(df[['Level']])\n",
    "reg4 = linear_model.LinearRegression()\n",
    "reg4.fit(x_poly_4,y)\n",
    "y_poly_4 = reg4.predict(x_poly_4)"
   ]
  },
  {
   "cell_type": "code",
   "execution_count": 84,
   "id": "dd136790",
   "metadata": {},
   "outputs": [
    {
     "data": {
      "text/plain": [
       "[<matplotlib.lines.Line2D at 0x17e05281880>]"
      ]
     },
     "execution_count": 84,
     "metadata": {},
     "output_type": "execute_result"
    },
    {
     "data": {
      "image/png": "[encoded data removed]",
      "text/plain": [
       "<Figure size 432x360 with 1 Axes>"
      ]
     },
     "metadata": {
      "needs_background": "light"
     },
     "output_type": "display_data"
    }
   ],
   "source": [
    "plt.figure(figsize=(6,5))\n",
    "plt.scatter(df['Level'],y, color='red')\n",
    "plt.plot(df['Level'],y_poly_4, color='blue')"
   ]
  },
  {
   "cell_type": "code",
   "execution_count": null,
   "id": "3af3f79c",
   "metadata": {},
   "outputs": [],
   "source": []
  }
 ],
 "metadata": {
  "kernelspec": {
   "display_name": "Python 3 (ipykernel)",
   "language": "python",
   "name": "python3"
  },
  "language_info": {
   "codemirror_mode": {
    "name": "ipython",
    "version": 3
   },
   "file_extension": ".py",
   "mimetype": "text/x-python",
   "name": "python",
   "nbconvert_exporter": "python",
   "pygments_lexer": "ipython3",
   "version": "3.9.12"
  }
 },
 "nbformat": 4,
 "nbformat_minor": 5
}
