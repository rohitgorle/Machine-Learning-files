{
 "cells": [
  {
   "cell_type": "code",
   "execution_count": 79,
   "id": "0cc0d4c8",
   "metadata": {},
   "outputs": [],
   "source": [
    "import numpy as np\n",
    "import pandas as pd\n",
    "import matplotlib.pyplot as plt"
   ]
  },
  {
   "cell_type": "code",
   "execution_count": 2,
   "id": "d7fe6c6a",
   "metadata": {},
   "outputs": [],
   "source": [
    "df = pd.read_csv('ML_EVALUTION1_29_AUG - Sheet1.csv')"
   ]
  },
  {
   "cell_type": "code",
   "execution_count": 4,
   "id": "6e1090ec",
   "metadata": {},
   "outputs": [
    {
     "data": {
      "text/html": [
       "<div>\n",
       "<style scoped>\n",
       "    .dataframe tbody tr th:only-of-type {\n",
       "        vertical-align: middle;\n",
       "    }\n",
       "\n",
       "    .dataframe tbody tr th {\n",
       "        vertical-align: top;\n",
       "    }\n",
       "\n",
       "    .dataframe thead th {\n",
       "        text-align: right;\n",
       "    }\n",
       "</style>\n",
       "<table border=\"1\" class=\"dataframe\">\n",
       "  <thead>\n",
       "    <tr style=\"text-align: right;\">\n",
       "      <th></th>\n",
       "      <th>Serial No.</th>\n",
       "      <th>University Rating</th>\n",
       "      <th>SOP</th>\n",
       "      <th>LOR</th>\n",
       "      <th>CGPA</th>\n",
       "      <th>12 Score</th>\n",
       "      <th>Prior Coding Level</th>\n",
       "      <th>Research</th>\n",
       "      <th>Chance of Admit</th>\n",
       "    </tr>\n",
       "  </thead>\n",
       "  <tbody>\n",
       "    <tr>\n",
       "      <th>0</th>\n",
       "      <td>1</td>\n",
       "      <td>4</td>\n",
       "      <td>4.5</td>\n",
       "      <td>4.5</td>\n",
       "      <td>9.65</td>\n",
       "      <td>86.85</td>\n",
       "      <td>1</td>\n",
       "      <td>1</td>\n",
       "      <td>0.92</td>\n",
       "    </tr>\n",
       "    <tr>\n",
       "      <th>1</th>\n",
       "      <td>2</td>\n",
       "      <td>4</td>\n",
       "      <td>4.0</td>\n",
       "      <td>4.5</td>\n",
       "      <td>8.87</td>\n",
       "      <td>79.83</td>\n",
       "      <td>1</td>\n",
       "      <td>1</td>\n",
       "      <td>0.76</td>\n",
       "    </tr>\n",
       "    <tr>\n",
       "      <th>2</th>\n",
       "      <td>3</td>\n",
       "      <td>3</td>\n",
       "      <td>3.0</td>\n",
       "      <td>3.5</td>\n",
       "      <td>8.00</td>\n",
       "      <td>72.00</td>\n",
       "      <td>0</td>\n",
       "      <td>1</td>\n",
       "      <td>0.72</td>\n",
       "    </tr>\n",
       "    <tr>\n",
       "      <th>3</th>\n",
       "      <td>4</td>\n",
       "      <td>3</td>\n",
       "      <td>3.5</td>\n",
       "      <td>2.5</td>\n",
       "      <td>8.67</td>\n",
       "      <td>78.03</td>\n",
       "      <td>0</td>\n",
       "      <td>1</td>\n",
       "      <td>0.80</td>\n",
       "    </tr>\n",
       "    <tr>\n",
       "      <th>4</th>\n",
       "      <td>5</td>\n",
       "      <td>2</td>\n",
       "      <td>2.0</td>\n",
       "      <td>3.0</td>\n",
       "      <td>8.21</td>\n",
       "      <td>73.89</td>\n",
       "      <td>1</td>\n",
       "      <td>0</td>\n",
       "      <td>0.65</td>\n",
       "    </tr>\n",
       "  </tbody>\n",
       "</table>\n",
       "</div>"
      ],
      "text/plain": [
       "   Serial No.  University Rating  SOP  LOR  CGPA  12 Score  \\\n",
       "0           1                  4  4.5  4.5  9.65     86.85   \n",
       "1           2                  4  4.0  4.5  8.87     79.83   \n",
       "2           3                  3  3.0  3.5  8.00     72.00   \n",
       "3           4                  3  3.5  2.5  8.67     78.03   \n",
       "4           5                  2  2.0  3.0  8.21     73.89   \n",
       "\n",
       "   Prior Coding Level  Research  Chance of Admit  \n",
       "0                   1         1             0.92  \n",
       "1                   1         1             0.76  \n",
       "2                   0         1             0.72  \n",
       "3                   0         1             0.80  \n",
       "4                   1         0             0.65  "
      ]
     },
     "execution_count": 4,
     "metadata": {},
     "output_type": "execute_result"
    }
   ],
   "source": [
    "df.head()"
   ]
  },
  {
   "cell_type": "code",
   "execution_count": 28,
   "id": "363fb9fe",
   "metadata": {},
   "outputs": [
    {
     "data": {
      "text/plain": [
       "Serial No.            0\n",
       "University Rating     0\n",
       "SOP                   0\n",
       "LOR                   0\n",
       "CGPA                  0\n",
       "12 Score              0\n",
       "Prior Coding Level    0\n",
       "Research              0\n",
       "Chance of Admit       0\n",
       "dtype: int64"
      ]
     },
     "execution_count": 28,
     "metadata": {},
     "output_type": "execute_result"
    }
   ],
   "source": [
    "df.isnull().sum()"
   ]
  },
  {
   "cell_type": "code",
   "execution_count": 6,
   "id": "79695ee3",
   "metadata": {},
   "outputs": [],
   "source": [
    "features = df.drop(['Serial No.','Chance of Admit'], axis=1)"
   ]
  },
  {
   "cell_type": "code",
   "execution_count": 7,
   "id": "bf9f425d",
   "metadata": {},
   "outputs": [
    {
     "data": {
      "text/html": [
       "<div>\n",
       "<style scoped>\n",
       "    .dataframe tbody tr th:only-of-type {\n",
       "        vertical-align: middle;\n",
       "    }\n",
       "\n",
       "    .dataframe tbody tr th {\n",
       "        vertical-align: top;\n",
       "    }\n",
       "\n",
       "    .dataframe thead th {\n",
       "        text-align: right;\n",
       "    }\n",
       "</style>\n",
       "<table border=\"1\" class=\"dataframe\">\n",
       "  <thead>\n",
       "    <tr style=\"text-align: right;\">\n",
       "      <th></th>\n",
       "      <th>University Rating</th>\n",
       "      <th>SOP</th>\n",
       "      <th>LOR</th>\n",
       "      <th>CGPA</th>\n",
       "      <th>12 Score</th>\n",
       "      <th>Prior Coding Level</th>\n",
       "      <th>Research</th>\n",
       "    </tr>\n",
       "  </thead>\n",
       "  <tbody>\n",
       "    <tr>\n",
       "      <th>0</th>\n",
       "      <td>4</td>\n",
       "      <td>4.5</td>\n",
       "      <td>4.5</td>\n",
       "      <td>9.65</td>\n",
       "      <td>86.85</td>\n",
       "      <td>1</td>\n",
       "      <td>1</td>\n",
       "    </tr>\n",
       "    <tr>\n",
       "      <th>1</th>\n",
       "      <td>4</td>\n",
       "      <td>4.0</td>\n",
       "      <td>4.5</td>\n",
       "      <td>8.87</td>\n",
       "      <td>79.83</td>\n",
       "      <td>1</td>\n",
       "      <td>1</td>\n",
       "    </tr>\n",
       "    <tr>\n",
       "      <th>2</th>\n",
       "      <td>3</td>\n",
       "      <td>3.0</td>\n",
       "      <td>3.5</td>\n",
       "      <td>8.00</td>\n",
       "      <td>72.00</td>\n",
       "      <td>0</td>\n",
       "      <td>1</td>\n",
       "    </tr>\n",
       "    <tr>\n",
       "      <th>3</th>\n",
       "      <td>3</td>\n",
       "      <td>3.5</td>\n",
       "      <td>2.5</td>\n",
       "      <td>8.67</td>\n",
       "      <td>78.03</td>\n",
       "      <td>0</td>\n",
       "      <td>1</td>\n",
       "    </tr>\n",
       "    <tr>\n",
       "      <th>4</th>\n",
       "      <td>2</td>\n",
       "      <td>2.0</td>\n",
       "      <td>3.0</td>\n",
       "      <td>8.21</td>\n",
       "      <td>73.89</td>\n",
       "      <td>1</td>\n",
       "      <td>0</td>\n",
       "    </tr>\n",
       "  </tbody>\n",
       "</table>\n",
       "</div>"
      ],
      "text/plain": [
       "   University Rating  SOP  LOR  CGPA  12 Score  Prior Coding Level  Research\n",
       "0                  4  4.5  4.5  9.65     86.85                   1         1\n",
       "1                  4  4.0  4.5  8.87     79.83                   1         1\n",
       "2                  3  3.0  3.5  8.00     72.00                   0         1\n",
       "3                  3  3.5  2.5  8.67     78.03                   0         1\n",
       "4                  2  2.0  3.0  8.21     73.89                   1         0"
      ]
     },
     "execution_count": 7,
     "metadata": {},
     "output_type": "execute_result"
    }
   ],
   "source": [
    "features.head()"
   ]
  },
  {
   "cell_type": "code",
   "execution_count": 18,
   "id": "b7223fb6",
   "metadata": {},
   "outputs": [],
   "source": [
    "label = df['Chance of Admit']"
   ]
  },
  {
   "cell_type": "code",
   "execution_count": 19,
   "id": "1e480853",
   "metadata": {},
   "outputs": [
    {
     "data": {
      "text/plain": [
       "0    0.92\n",
       "1    0.76\n",
       "2    0.72\n",
       "3    0.80\n",
       "4    0.65\n",
       "Name: Chance of Admit, dtype: float64"
      ]
     },
     "execution_count": 19,
     "metadata": {},
     "output_type": "execute_result"
    }
   ],
   "source": [
    "label.head()"
   ]
  },
  {
   "cell_type": "code",
   "execution_count": 8,
   "id": "4d279f8e",
   "metadata": {},
   "outputs": [],
   "source": [
    "import seaborn as sns"
   ]
  },
  {
   "cell_type": "markdown",
   "id": "fd2a6170",
   "metadata": {},
   "source": [
    "## Finding most correlated feature"
   ]
  },
  {
   "cell_type": "code",
   "execution_count": 78,
   "id": "96ccc712",
   "metadata": {},
   "outputs": [
    {
     "data": {
      "text/plain": [
       "<AxesSubplot:>"
      ]
     },
     "execution_count": 78,
     "metadata": {},
     "output_type": "execute_result"
    },
    {
     "data": {
      "image/png": "[encoded data removed]",
      "text/plain": [
       "<Figure size 432x288 with 2 Axes>"
      ]
     },
     "metadata": {
      "needs_background": "light"
     },
     "output_type": "display_data"
    }
   ],
   "source": [
    "sns.heatmap(df.corr()[['Chance of Admit']].sort_values('Chance of Admit'), annot=True)"
   ]
  },
  {
   "cell_type": "code",
   "execution_count": 13,
   "id": "d2174d15",
   "metadata": {},
   "outputs": [],
   "source": [
    "from sklearn.preprocessing import MinMaxScaler"
   ]
  },
  {
   "cell_type": "code",
   "execution_count": 15,
   "id": "a8601f64",
   "metadata": {},
   "outputs": [],
   "source": [
    "scaler = MinMaxScaler()\n",
    "scaler.fit(features[['University Rating']])\n",
    "features['University Rating']= scaler.transform(features[['University Rating']])\n",
    "\n",
    "scaler.fit(features[['SOP']])\n",
    "features['SOP']= scaler.transform(features[['SOP']])\n",
    "\n",
    "scaler.fit(features[['LOR']])\n",
    "features['LOR']= scaler.transform(features[['LOR']])\n",
    "\n",
    "scaler.fit(features[['CGPA']])\n",
    "features['CGPA']= scaler.transform(features[['CGPA']])\n",
    "\n",
    "scaler.fit(features[['12 Score']])\n",
    "features['12 Score']= scaler.transform(features[['12 Score']])\n",
    "\n",
    "scaler.fit(features[['Prior Coding Level']])\n",
    "features['Prior Coding Level']= scaler.transform(features[['Prior Coding Level']])\n",
    "\n",
    "scaler.fit(features[['Research']])\n",
    "features['Research']= scaler.transform(features[['Research']])"
   ]
  },
  {
   "cell_type": "code",
   "execution_count": 16,
   "id": "4304a158",
   "metadata": {},
   "outputs": [
    {
     "data": {
      "text/html": [
       "<div>\n",
       "<style scoped>\n",
       "    .dataframe tbody tr th:only-of-type {\n",
       "        vertical-align: middle;\n",
       "    }\n",
       "\n",
       "    .dataframe tbody tr th {\n",
       "        vertical-align: top;\n",
       "    }\n",
       "\n",
       "    .dataframe thead th {\n",
       "        text-align: right;\n",
       "    }\n",
       "</style>\n",
       "<table border=\"1\" class=\"dataframe\">\n",
       "  <thead>\n",
       "    <tr style=\"text-align: right;\">\n",
       "      <th></th>\n",
       "      <th>University Rating</th>\n",
       "      <th>SOP</th>\n",
       "      <th>LOR</th>\n",
       "      <th>CGPA</th>\n",
       "      <th>12 Score</th>\n",
       "      <th>Prior Coding Level</th>\n",
       "      <th>Research</th>\n",
       "    </tr>\n",
       "  </thead>\n",
       "  <tbody>\n",
       "    <tr>\n",
       "      <th>0</th>\n",
       "      <td>0.75</td>\n",
       "      <td>0.875</td>\n",
       "      <td>0.875</td>\n",
       "      <td>0.913462</td>\n",
       "      <td>0.913462</td>\n",
       "      <td>1.0</td>\n",
       "      <td>1.0</td>\n",
       "    </tr>\n",
       "    <tr>\n",
       "      <th>1</th>\n",
       "      <td>0.75</td>\n",
       "      <td>0.750</td>\n",
       "      <td>0.875</td>\n",
       "      <td>0.663462</td>\n",
       "      <td>0.663462</td>\n",
       "      <td>1.0</td>\n",
       "      <td>1.0</td>\n",
       "    </tr>\n",
       "    <tr>\n",
       "      <th>2</th>\n",
       "      <td>0.50</td>\n",
       "      <td>0.500</td>\n",
       "      <td>0.625</td>\n",
       "      <td>0.384615</td>\n",
       "      <td>0.384615</td>\n",
       "      <td>0.0</td>\n",
       "      <td>1.0</td>\n",
       "    </tr>\n",
       "    <tr>\n",
       "      <th>3</th>\n",
       "      <td>0.50</td>\n",
       "      <td>0.625</td>\n",
       "      <td>0.375</td>\n",
       "      <td>0.599359</td>\n",
       "      <td>0.599359</td>\n",
       "      <td>0.0</td>\n",
       "      <td>1.0</td>\n",
       "    </tr>\n",
       "    <tr>\n",
       "      <th>4</th>\n",
       "      <td>0.25</td>\n",
       "      <td>0.250</td>\n",
       "      <td>0.500</td>\n",
       "      <td>0.451923</td>\n",
       "      <td>0.451923</td>\n",
       "      <td>1.0</td>\n",
       "      <td>0.0</td>\n",
       "    </tr>\n",
       "  </tbody>\n",
       "</table>\n",
       "</div>"
      ],
      "text/plain": [
       "   University Rating    SOP    LOR      CGPA  12 Score  Prior Coding Level  \\\n",
       "0               0.75  0.875  0.875  0.913462  0.913462                 1.0   \n",
       "1               0.75  0.750  0.875  0.663462  0.663462                 1.0   \n",
       "2               0.50  0.500  0.625  0.384615  0.384615                 0.0   \n",
       "3               0.50  0.625  0.375  0.599359  0.599359                 0.0   \n",
       "4               0.25  0.250  0.500  0.451923  0.451923                 1.0   \n",
       "\n",
       "   Research  \n",
       "0       1.0  \n",
       "1       1.0  \n",
       "2       1.0  \n",
       "3       1.0  \n",
       "4       0.0  "
      ]
     },
     "execution_count": 16,
     "metadata": {},
     "output_type": "execute_result"
    }
   ],
   "source": [
    "features.head()"
   ]
  },
  {
   "cell_type": "markdown",
   "id": "06e870e3",
   "metadata": {},
   "source": [
    "## 1) Taking the most correlated feature (Simple Linear Regression)\n",
    "\n",
    "##  - 12 Score\t"
   ]
  },
  {
   "cell_type": "code",
   "execution_count": 21,
   "id": "af2285af",
   "metadata": {},
   "outputs": [
    {
     "data": {
      "text/plain": [
       "0    0.92\n",
       "1    0.76\n",
       "2    0.72\n",
       "3    0.80\n",
       "4    0.65\n",
       "Name: Chance of Admit, dtype: float64"
      ]
     },
     "execution_count": 21,
     "metadata": {},
     "output_type": "execute_result"
    }
   ],
   "source": [
    "label.head()"
   ]
  },
  {
   "cell_type": "code",
   "execution_count": 22,
   "id": "dd608a84",
   "metadata": {},
   "outputs": [],
   "source": [
    "from sklearn import linear_model"
   ]
  },
  {
   "cell_type": "code",
   "execution_count": 24,
   "id": "d05e2c61",
   "metadata": {},
   "outputs": [],
   "source": [
    "model_1 = linear_model.LinearRegression()"
   ]
  },
  {
   "cell_type": "code",
   "execution_count": 29,
   "id": "d62dda69",
   "metadata": {},
   "outputs": [
    {
     "data": {
      "text/plain": [
       "LinearRegression()"
      ]
     },
     "execution_count": 29,
     "metadata": {},
     "output_type": "execute_result"
    }
   ],
   "source": [
    "model_1.fit(features[['12 Score']], label)"
   ]
  },
  {
   "cell_type": "code",
   "execution_count": 33,
   "id": "3d8b7382",
   "metadata": {},
   "outputs": [],
   "source": [
    "y_pred_1 = model_1.predict(features[['12 Score']])"
   ]
  },
  {
   "cell_type": "markdown",
   "id": "015cb2a3",
   "metadata": {},
   "source": [
    "### coefficients"
   ]
  },
  {
   "cell_type": "code",
   "execution_count": 30,
   "id": "2c0e5e3b",
   "metadata": {},
   "outputs": [
    {
     "data": {
      "text/plain": [
       "array([0.64247564])"
      ]
     },
     "execution_count": 30,
     "metadata": {},
     "output_type": "execute_result"
    }
   ],
   "source": [
    "model_1.coef_"
   ]
  },
  {
   "cell_type": "markdown",
   "id": "8d1c8454",
   "metadata": {},
   "source": [
    "### intercept"
   ]
  },
  {
   "cell_type": "code",
   "execution_count": 31,
   "id": "e3e155f9",
   "metadata": {},
   "outputs": [
    {
     "data": {
      "text/plain": [
       "0.35593249271128724"
      ]
     },
     "execution_count": 31,
     "metadata": {},
     "output_type": "execute_result"
    }
   ],
   "source": [
    "model_1.intercept_"
   ]
  },
  {
   "cell_type": "markdown",
   "id": "bac895b4",
   "metadata": {},
   "source": [
    "### mean_squared_error"
   ]
  },
  {
   "cell_type": "code",
   "execution_count": 34,
   "id": "ddd09d3a",
   "metadata": {},
   "outputs": [],
   "source": [
    "def mean_squared_error(actual, predicted):\n",
    "    '''mean_squared_error is mean of square of difference between actual label and predicted label'''\n",
    "    a = ((actual-predicted)*(actual-predicted)).mean()\n",
    "    return a"
   ]
  },
  {
   "cell_type": "code",
   "execution_count": 35,
   "id": "a0fb9388",
   "metadata": {},
   "outputs": [
    {
     "data": {
      "text/plain": [
       "0.004400570156519558"
      ]
     },
     "execution_count": 35,
     "metadata": {},
     "output_type": "execute_result"
    }
   ],
   "source": [
    "mean_squared_error(label, y_pred_1)"
   ]
  },
  {
   "cell_type": "markdown",
   "id": "90ceb66c",
   "metadata": {},
   "source": [
    "### mean_absolute_error"
   ]
  },
  {
   "cell_type": "code",
   "execution_count": 36,
   "id": "fb9bc330",
   "metadata": {},
   "outputs": [],
   "source": [
    "def mean_absolute_error(actual, predicted):\n",
    "    '''mean_squared_error is mean of difference between actual label and predicted label'''\n",
    "    a = (actual-predicted).mean()\n",
    "    return a"
   ]
  },
  {
   "cell_type": "code",
   "execution_count": 38,
   "id": "053a1289",
   "metadata": {},
   "outputs": [
    {
     "data": {
      "text/plain": [
       "-2.19824158875781e-17"
      ]
     },
     "execution_count": 38,
     "metadata": {},
     "output_type": "execute_result"
    }
   ],
   "source": [
    "mean_absolute_error(label, y_pred_1)"
   ]
  },
  {
   "cell_type": "markdown",
   "id": "f3c748b4",
   "metadata": {},
   "source": [
    "### r2_score"
   ]
  },
  {
   "cell_type": "code",
   "execution_count": 39,
   "id": "3e4272d6",
   "metadata": {},
   "outputs": [],
   "source": [
    "from sklearn.metrics import r2_score"
   ]
  },
  {
   "cell_type": "code",
   "execution_count": 40,
   "id": "8883efdd",
   "metadata": {},
   "outputs": [
    {
     "data": {
      "text/plain": [
       "0.7786519523497208"
      ]
     },
     "execution_count": 40,
     "metadata": {},
     "output_type": "execute_result"
    }
   ],
   "source": [
    "r2_score(label, y_pred_1)"
   ]
  },
  {
   "cell_type": "code",
   "execution_count": 76,
   "id": "f980e86b",
   "metadata": {},
   "outputs": [],
   "source": [
    "def r2_score_(actual, predicted):\n",
    "    ''' by using formula for r2_score = 1 - square of sdifference of actual y and predicted y / square of difference of actual y and mean y'''\n",
    "    return 1-(((actual - predicted)*(actual - predicted)).sum()/((actual - actual.mean())*(actual - actual.mean())).sum())"
   ]
  },
  {
   "cell_type": "code",
   "execution_count": 68,
   "id": "2364f5fd",
   "metadata": {},
   "outputs": [
    {
     "data": {
      "text/plain": [
       "0.778651952349721"
      ]
     },
     "execution_count": 68,
     "metadata": {},
     "output_type": "execute_result"
    }
   ],
   "source": [
    "r2_score_(label, y_pred_1)"
   ]
  },
  {
   "cell_type": "markdown",
   "id": "17661c27",
   "metadata": {},
   "source": [
    "### adjusted r2_score"
   ]
  },
  {
   "cell_type": "code",
   "execution_count": 102,
   "id": "f9d94830",
   "metadata": {},
   "outputs": [],
   "source": [
    "def adjusted_r2_score_1(actual, predicted):\n",
    "    '''used formula of adjusted r2 score '''\n",
    "    a = ((1-r2_score_(actual, predicted))*(len(actual)-1))/(len(actual)-1-1)\n",
    "    return 1-a                                                       "
   ]
  },
  {
   "cell_type": "code",
   "execution_count": 103,
   "id": "0ee5f7fa",
   "metadata": {},
   "outputs": [
    {
     "data": {
      "text/plain": [
       "0.7782074783584554"
      ]
     },
     "execution_count": 103,
     "metadata": {},
     "output_type": "execute_result"
    }
   ],
   "source": [
    "adjusted_r2_score_1(label, y_pred_1)"
   ]
  },
  {
   "cell_type": "code",
   "execution_count": 82,
   "id": "817a8d67",
   "metadata": {},
   "outputs": [
    {
     "data": {
      "text/plain": [
       "[<matplotlib.lines.Line2D at 0x1f8d9f97730>]"
      ]
     },
     "execution_count": 82,
     "metadata": {},
     "output_type": "execute_result"
    },
    {
     "data": {
      "image/png": "[encoded data removed]",
      "text/plain": [
       "<Figure size 432x360 with 1 Axes>"
      ]
     },
     "metadata": {
      "needs_background": "light"
     },
     "output_type": "display_data"
    }
   ],
   "source": [
    "plt.figure(figsize=(6,5))\n",
    "plt.scatter(features['12 Score'], label)\n",
    "plt.plot(features['12 Score'], y_pred_1, color = 'red')"
   ]
  },
  {
   "cell_type": "markdown",
   "id": "77acc37f",
   "metadata": {},
   "source": [
    "## 2) Taking the top four correlated feature (Multiple Linear Regression) and name the features\n",
    "\n",
    "## - 12 Score\t\n",
    "## - CGPA\n",
    "## - University Rating\t\n",
    "## - SOP"
   ]
  },
  {
   "cell_type": "code",
   "execution_count": 53,
   "id": "dbee4d45",
   "metadata": {},
   "outputs": [],
   "source": [
    "model_2 = linear_model.LinearRegression()"
   ]
  },
  {
   "cell_type": "code",
   "execution_count": 54,
   "id": "cbe9da8a",
   "metadata": {},
   "outputs": [
    {
     "data": {
      "text/plain": [
       "LinearRegression()"
      ]
     },
     "execution_count": 54,
     "metadata": {},
     "output_type": "execute_result"
    }
   ],
   "source": [
    "model_2.fit(features[['12 Score', 'CGPA','University Rating','SOP']], label)"
   ]
  },
  {
   "cell_type": "code",
   "execution_count": 55,
   "id": "b5dbbd88",
   "metadata": {},
   "outputs": [],
   "source": [
    "y_pred_2 = model_2.predict(features[['12 Score', 'CGPA','University Rating','SOP']])"
   ]
  },
  {
   "cell_type": "markdown",
   "id": "0c305c26",
   "metadata": {},
   "source": [
    "### coefficients"
   ]
  },
  {
   "cell_type": "code",
   "execution_count": 57,
   "id": "7b112d0d",
   "metadata": {},
   "outputs": [
    {
     "data": {
      "text/plain": [
       "array([-9.54266866e+12,  9.54266866e+12,  5.18886535e-02,  3.75842676e-02])"
      ]
     },
     "execution_count": 57,
     "metadata": {},
     "output_type": "execute_result"
    }
   ],
   "source": [
    "model_2.coef_"
   ]
  },
  {
   "cell_type": "markdown",
   "id": "4608a8ae",
   "metadata": {},
   "source": [
    "### intercept"
   ]
  },
  {
   "cell_type": "code",
   "execution_count": 58,
   "id": "62ae9a4a",
   "metadata": {},
   "outputs": [
    {
     "data": {
      "text/plain": [
       "0.35259937500000005"
      ]
     },
     "execution_count": 58,
     "metadata": {},
     "output_type": "execute_result"
    }
   ],
   "source": [
    "model_2.intercept_"
   ]
  },
  {
   "cell_type": "markdown",
   "id": "cf3eb698",
   "metadata": {},
   "source": [
    "### mean_squared_error"
   ]
  },
  {
   "cell_type": "code",
   "execution_count": 59,
   "id": "f626754d",
   "metadata": {},
   "outputs": [
    {
     "data": {
      "text/plain": [
       "0.004179274921676473"
      ]
     },
     "execution_count": 59,
     "metadata": {},
     "output_type": "execute_result"
    }
   ],
   "source": [
    "mean_squared_error(label, y_pred_2)"
   ]
  },
  {
   "cell_type": "markdown",
   "id": "67b6c4a2",
   "metadata": {},
   "source": [
    "### mean_absolute_error"
   ]
  },
  {
   "cell_type": "code",
   "execution_count": 60,
   "id": "b12e708a",
   "metadata": {},
   "outputs": [
    {
     "data": {
      "text/plain": [
       "0.00019654065172512126"
      ]
     },
     "execution_count": 60,
     "metadata": {},
     "output_type": "execute_result"
    }
   ],
   "source": [
    "mean_absolute_error(label, y_pred_2)"
   ]
  },
  {
   "cell_type": "markdown",
   "id": "b0b3920e",
   "metadata": {},
   "source": [
    "### r2_score"
   ]
  },
  {
   "cell_type": "code",
   "execution_count": 75,
   "id": "65709edd",
   "metadata": {},
   "outputs": [
    {
     "data": {
      "text/plain": [
       "0.7897830709194945"
      ]
     },
     "execution_count": 75,
     "metadata": {},
     "output_type": "execute_result"
    }
   ],
   "source": [
    "r2_score_(label, y_pred_2)"
   ]
  },
  {
   "cell_type": "markdown",
   "id": "bcfd8c1b",
   "metadata": {},
   "source": [
    "### adjusted r2_score"
   ]
  },
  {
   "cell_type": "code",
   "execution_count": 104,
   "id": "9b1f23c5",
   "metadata": {},
   "outputs": [],
   "source": [
    "def adjusted_r2_score_2(actual, predicted):\n",
    "    '''used formula of adjusted r2 score '''\n",
    "    a = ((1-r2_score_(actual, predicted))*(len(actual)-1))/(len(actual)-4-1)\n",
    "    return 1-a "
   ]
  },
  {
   "cell_type": "code",
   "execution_count": 99,
   "id": "7c265d29",
   "metadata": {},
   "outputs": [
    {
     "data": {
      "text/plain": [
       "0.7880843482602581"
      ]
     },
     "execution_count": 99,
     "metadata": {},
     "output_type": "execute_result"
    }
   ],
   "source": [
    "adjusted_r2_score_2(label, y_pred_2)"
   ]
  },
  {
   "cell_type": "markdown",
   "id": "23e838dd",
   "metadata": {},
   "source": [
    "## 3)Taking all feature (Multiple Linear Regression)\n"
   ]
  },
  {
   "cell_type": "code",
   "execution_count": 63,
   "id": "4a4218ea",
   "metadata": {},
   "outputs": [
    {
     "data": {
      "text/html": [
       "<div>\n",
       "<style scoped>\n",
       "    .dataframe tbody tr th:only-of-type {\n",
       "        vertical-align: middle;\n",
       "    }\n",
       "\n",
       "    .dataframe tbody tr th {\n",
       "        vertical-align: top;\n",
       "    }\n",
       "\n",
       "    .dataframe thead th {\n",
       "        text-align: right;\n",
       "    }\n",
       "</style>\n",
       "<table border=\"1\" class=\"dataframe\">\n",
       "  <thead>\n",
       "    <tr style=\"text-align: right;\">\n",
       "      <th></th>\n",
       "      <th>University Rating</th>\n",
       "      <th>SOP</th>\n",
       "      <th>LOR</th>\n",
       "      <th>CGPA</th>\n",
       "      <th>12 Score</th>\n",
       "      <th>Prior Coding Level</th>\n",
       "      <th>Research</th>\n",
       "    </tr>\n",
       "  </thead>\n",
       "  <tbody>\n",
       "    <tr>\n",
       "      <th>0</th>\n",
       "      <td>0.75</td>\n",
       "      <td>0.875</td>\n",
       "      <td>0.875</td>\n",
       "      <td>0.913462</td>\n",
       "      <td>0.913462</td>\n",
       "      <td>1.0</td>\n",
       "      <td>1.0</td>\n",
       "    </tr>\n",
       "    <tr>\n",
       "      <th>1</th>\n",
       "      <td>0.75</td>\n",
       "      <td>0.750</td>\n",
       "      <td>0.875</td>\n",
       "      <td>0.663462</td>\n",
       "      <td>0.663462</td>\n",
       "      <td>1.0</td>\n",
       "      <td>1.0</td>\n",
       "    </tr>\n",
       "    <tr>\n",
       "      <th>2</th>\n",
       "      <td>0.50</td>\n",
       "      <td>0.500</td>\n",
       "      <td>0.625</td>\n",
       "      <td>0.384615</td>\n",
       "      <td>0.384615</td>\n",
       "      <td>0.0</td>\n",
       "      <td>1.0</td>\n",
       "    </tr>\n",
       "    <tr>\n",
       "      <th>3</th>\n",
       "      <td>0.50</td>\n",
       "      <td>0.625</td>\n",
       "      <td>0.375</td>\n",
       "      <td>0.599359</td>\n",
       "      <td>0.599359</td>\n",
       "      <td>0.0</td>\n",
       "      <td>1.0</td>\n",
       "    </tr>\n",
       "    <tr>\n",
       "      <th>4</th>\n",
       "      <td>0.25</td>\n",
       "      <td>0.250</td>\n",
       "      <td>0.500</td>\n",
       "      <td>0.451923</td>\n",
       "      <td>0.451923</td>\n",
       "      <td>1.0</td>\n",
       "      <td>0.0</td>\n",
       "    </tr>\n",
       "  </tbody>\n",
       "</table>\n",
       "</div>"
      ],
      "text/plain": [
       "   University Rating    SOP    LOR      CGPA  12 Score  Prior Coding Level  \\\n",
       "0               0.75  0.875  0.875  0.913462  0.913462                 1.0   \n",
       "1               0.75  0.750  0.875  0.663462  0.663462                 1.0   \n",
       "2               0.50  0.500  0.625  0.384615  0.384615                 0.0   \n",
       "3               0.50  0.625  0.375  0.599359  0.599359                 0.0   \n",
       "4               0.25  0.250  0.500  0.451923  0.451923                 1.0   \n",
       "\n",
       "   Research  \n",
       "0       1.0  \n",
       "1       1.0  \n",
       "2       1.0  \n",
       "3       1.0  \n",
       "4       0.0  "
      ]
     },
     "execution_count": 63,
     "metadata": {},
     "output_type": "execute_result"
    }
   ],
   "source": [
    "features.head()"
   ]
  },
  {
   "cell_type": "code",
   "execution_count": 64,
   "id": "8f9dc633",
   "metadata": {},
   "outputs": [],
   "source": [
    "model_3 = linear_model.LinearRegression()"
   ]
  },
  {
   "cell_type": "code",
   "execution_count": 65,
   "id": "52a3416a",
   "metadata": {},
   "outputs": [
    {
     "data": {
      "text/plain": [
       "LinearRegression()"
      ]
     },
     "execution_count": 65,
     "metadata": {},
     "output_type": "execute_result"
    }
   ],
   "source": [
    "model_3.fit(features, label)"
   ]
  },
  {
   "cell_type": "code",
   "execution_count": 66,
   "id": "86a7ad5d",
   "metadata": {},
   "outputs": [],
   "source": [
    "y_pred_3 = model_3.predict(features)"
   ]
  },
  {
   "cell_type": "markdown",
   "id": "8c96c4a2",
   "metadata": {},
   "source": [
    "### coefficients"
   ]
  },
  {
   "cell_type": "code",
   "execution_count": 69,
   "id": "cd1bd157",
   "metadata": {},
   "outputs": [
    {
     "data": {
      "text/plain": [
       "array([ 3.62301782e-02,  1.53324023e-02,  6.01360246e-02,  3.68687877e+12,\n",
       "       -3.68687877e+12, -2.89219961e-03,  3.44917821e-02])"
      ]
     },
     "execution_count": 69,
     "metadata": {},
     "output_type": "execute_result"
    }
   ],
   "source": [
    "model_3.coef_"
   ]
  },
  {
   "cell_type": "markdown",
   "id": "c6577276",
   "metadata": {},
   "source": [
    "### intercept"
   ]
  },
  {
   "cell_type": "code",
   "execution_count": 70,
   "id": "9f3110f8",
   "metadata": {},
   "outputs": [
    {
     "data": {
      "text/plain": [
       "0.35308765625000005"
      ]
     },
     "execution_count": 70,
     "metadata": {},
     "output_type": "execute_result"
    }
   ],
   "source": [
    "model_3.intercept_"
   ]
  },
  {
   "cell_type": "markdown",
   "id": "426d9675",
   "metadata": {},
   "source": [
    "### mean_squared_error"
   ]
  },
  {
   "cell_type": "code",
   "execution_count": 71,
   "id": "750de56f",
   "metadata": {},
   "outputs": [
    {
     "data": {
      "text/plain": [
       "0.003852833644720477"
      ]
     },
     "execution_count": 71,
     "metadata": {},
     "output_type": "execute_result"
    }
   ],
   "source": [
    "mean_squared_error(label, y_pred_3)"
   ]
  },
  {
   "cell_type": "markdown",
   "id": "bc44568b",
   "metadata": {},
   "source": [
    "### mean_absolute_error"
   ]
  },
  {
   "cell_type": "code",
   "execution_count": 72,
   "id": "914bc87b",
   "metadata": {},
   "outputs": [
    {
     "data": {
      "text/plain": [
       "-6.773338864293177e-05"
      ]
     },
     "execution_count": 72,
     "metadata": {},
     "output_type": "execute_result"
    }
   ],
   "source": [
    "mean_absolute_error(label, y_pred_3)"
   ]
  },
  {
   "cell_type": "markdown",
   "id": "ebebb98f",
   "metadata": {},
   "source": [
    "### r2_score"
   ]
  },
  {
   "cell_type": "code",
   "execution_count": 73,
   "id": "2c4661b0",
   "metadata": {},
   "outputs": [
    {
     "data": {
      "text/plain": [
       "0.8062030203252828"
      ]
     },
     "execution_count": 73,
     "metadata": {},
     "output_type": "execute_result"
    }
   ],
   "source": [
    "r2_score_(label, y_pred_3)"
   ]
  },
  {
   "cell_type": "markdown",
   "id": "a6a333d5",
   "metadata": {},
   "source": [
    "### adjusted r2_score"
   ]
  },
  {
   "cell_type": "code",
   "execution_count": 105,
   "id": "bfb21207",
   "metadata": {},
   "outputs": [],
   "source": [
    "def adjusted_r2_score_3(actual, predicted):\n",
    "    '''used formula of adjusted r2 score '''\n",
    "    a = ((1-r2_score_(actual, predicted))*(len(actual)-1))/(len(actual)-7-1)\n",
    "    return 1-a "
   ]
  },
  {
   "cell_type": "code",
   "execution_count": 101,
   "id": "f50602fd",
   "metadata": {},
   "outputs": [
    {
     "data": {
      "text/plain": [
       "0.8034457462242197"
      ]
     },
     "execution_count": 101,
     "metadata": {},
     "output_type": "execute_result"
    }
   ],
   "source": [
    "adjusted_r2_score_3(label,y_pred_3)"
   ]
  },
  {
   "cell_type": "code",
   "execution_count": null,
   "id": "b999d91e",
   "metadata": {},
   "outputs": [],
   "source": []
  }
 ],
 "metadata": {
  "kernelspec": {
   "display_name": "Python 3 (ipykernel)",
   "language": "python",
   "name": "python3"
  },
  "language_info": {
   "codemirror_mode": {
    "name": "ipython",
    "version": 3
   },
   "file_extension": ".py",
   "mimetype": "text/x-python",
   "name": "python",
   "nbconvert_exporter": "python",
   "pygments_lexer": "ipython3",
   "version": "3.9.12"
  }
 },
 "nbformat": 4,
 "nbformat_minor": 5
}
