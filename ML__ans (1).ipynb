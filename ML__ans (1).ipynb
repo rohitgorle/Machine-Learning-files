{
 "cells": [
  {
   "cell_type": "code",
   "execution_count": 79,
   "id": "d9af320b",
   "metadata": {},
   "outputs": [],
   "source": [
    "import numpy as np\n",
    "import pandas as pd\n",
    "import matplotlib.pyplot as plt"
   ]
  },
  {
   "cell_type": "code",
   "execution_count": 2,
   "id": "804b40cd",
   "metadata": {},
   "outputs": [],
   "source": [
    "df = pd.read_csv('ML_EVALUTION1_29_AUG - Sheet1.csv')"
   ]
  },
  {
   "cell_type": "code",
   "execution_count": 133,
   "id": "9e95db9f",
   "metadata": {},
   "outputs": [
    {
     "data": {
      "text/html": [
       "<div>\n",
       "<style scoped>\n",
       "    .dataframe tbody tr th:only-of-type {\n",
       "        vertical-align: middle;\n",
       "    }\n",
       "\n",
       "    .dataframe tbody tr th {\n",
       "        vertical-align: top;\n",
       "    }\n",
       "\n",
       "    .dataframe thead th {\n",
       "        text-align: right;\n",
       "    }\n",
       "</style>\n",
       "<table border=\"1\" class=\"dataframe\">\n",
       "  <thead>\n",
       "    <tr style=\"text-align: right;\">\n",
       "      <th></th>\n",
       "      <th>Serial No.</th>\n",
       "      <th>University Rating</th>\n",
       "      <th>SOP</th>\n",
       "      <th>LOR</th>\n",
       "      <th>CGPA</th>\n",
       "      <th>12 Score</th>\n",
       "      <th>Prior Coding Level</th>\n",
       "      <th>Research</th>\n",
       "      <th>Chance of Admit</th>\n",
       "    </tr>\n",
       "  </thead>\n",
       "  <tbody>\n",
       "    <tr>\n",
       "      <th>0</th>\n",
       "      <td>1</td>\n",
       "      <td>4</td>\n",
       "      <td>4.5</td>\n",
       "      <td>4.5</td>\n",
       "      <td>9.65</td>\n",
       "      <td>86.85</td>\n",
       "      <td>1</td>\n",
       "      <td>1</td>\n",
       "      <td>0.92</td>\n",
       "    </tr>\n",
       "    <tr>\n",
       "      <th>1</th>\n",
       "      <td>2</td>\n",
       "      <td>4</td>\n",
       "      <td>4.0</td>\n",
       "      <td>4.5</td>\n",
       "      <td>8.87</td>\n",
       "      <td>79.83</td>\n",
       "      <td>1</td>\n",
       "      <td>1</td>\n",
       "      <td>0.76</td>\n",
       "    </tr>\n",
       "    <tr>\n",
       "      <th>2</th>\n",
       "      <td>3</td>\n",
       "      <td>3</td>\n",
       "      <td>3.0</td>\n",
       "      <td>3.5</td>\n",
       "      <td>8.00</td>\n",
       "      <td>72.00</td>\n",
       "      <td>0</td>\n",
       "      <td>1</td>\n",
       "      <td>0.72</td>\n",
       "    </tr>\n",
       "    <tr>\n",
       "      <th>3</th>\n",
       "      <td>4</td>\n",
       "      <td>3</td>\n",
       "      <td>3.5</td>\n",
       "      <td>2.5</td>\n",
       "      <td>8.67</td>\n",
       "      <td>78.03</td>\n",
       "      <td>0</td>\n",
       "      <td>1</td>\n",
       "      <td>0.80</td>\n",
       "    </tr>\n",
       "    <tr>\n",
       "      <th>4</th>\n",
       "      <td>5</td>\n",
       "      <td>2</td>\n",
       "      <td>2.0</td>\n",
       "      <td>3.0</td>\n",
       "      <td>8.21</td>\n",
       "      <td>73.89</td>\n",
       "      <td>1</td>\n",
       "      <td>0</td>\n",
       "      <td>0.65</td>\n",
       "    </tr>\n",
       "    <tr>\n",
       "      <th>...</th>\n",
       "      <td>...</td>\n",
       "      <td>...</td>\n",
       "      <td>...</td>\n",
       "      <td>...</td>\n",
       "      <td>...</td>\n",
       "      <td>...</td>\n",
       "      <td>...</td>\n",
       "      <td>...</td>\n",
       "      <td>...</td>\n",
       "    </tr>\n",
       "    <tr>\n",
       "      <th>95</th>\n",
       "      <td>96</td>\n",
       "      <td>4</td>\n",
       "      <td>1.5</td>\n",
       "      <td>2.5</td>\n",
       "      <td>7.84</td>\n",
       "      <td>70.56</td>\n",
       "      <td>1</td>\n",
       "      <td>0</td>\n",
       "      <td>0.42</td>\n",
       "    </tr>\n",
       "    <tr>\n",
       "      <th>96</th>\n",
       "      <td>97</td>\n",
       "      <td>2</td>\n",
       "      <td>3.0</td>\n",
       "      <td>3.0</td>\n",
       "      <td>8.00</td>\n",
       "      <td>72.00</td>\n",
       "      <td>0</td>\n",
       "      <td>0</td>\n",
       "      <td>0.48</td>\n",
       "    </tr>\n",
       "    <tr>\n",
       "      <th>97</th>\n",
       "      <td>98</td>\n",
       "      <td>3</td>\n",
       "      <td>4.0</td>\n",
       "      <td>4.0</td>\n",
       "      <td>8.96</td>\n",
       "      <td>80.64</td>\n",
       "      <td>0</td>\n",
       "      <td>1</td>\n",
       "      <td>0.86</td>\n",
       "    </tr>\n",
       "    <tr>\n",
       "      <th>98</th>\n",
       "      <td>99</td>\n",
       "      <td>4</td>\n",
       "      <td>5.0</td>\n",
       "      <td>4.5</td>\n",
       "      <td>9.24</td>\n",
       "      <td>83.16</td>\n",
       "      <td>1</td>\n",
       "      <td>1</td>\n",
       "      <td>0.90</td>\n",
       "    </tr>\n",
       "    <tr>\n",
       "      <th>99</th>\n",
       "      <td>100</td>\n",
       "      <td>3</td>\n",
       "      <td>4.0</td>\n",
       "      <td>4.0</td>\n",
       "      <td>8.88</td>\n",
       "      <td>79.92</td>\n",
       "      <td>1</td>\n",
       "      <td>1</td>\n",
       "      <td>0.79</td>\n",
       "    </tr>\n",
       "  </tbody>\n",
       "</table>\n",
       "<p>100 rows × 9 columns</p>\n",
       "</div>"
      ],
      "text/plain": [
       "    Serial No.  University Rating  SOP  LOR  CGPA  12 Score  \\\n",
       "0            1                  4  4.5  4.5  9.65     86.85   \n",
       "1            2                  4  4.0  4.5  8.87     79.83   \n",
       "2            3                  3  3.0  3.5  8.00     72.00   \n",
       "3            4                  3  3.5  2.5  8.67     78.03   \n",
       "4            5                  2  2.0  3.0  8.21     73.89   \n",
       "..         ...                ...  ...  ...   ...       ...   \n",
       "95          96                  4  1.5  2.5  7.84     70.56   \n",
       "96          97                  2  3.0  3.0  8.00     72.00   \n",
       "97          98                  3  4.0  4.0  8.96     80.64   \n",
       "98          99                  4  5.0  4.5  9.24     83.16   \n",
       "99         100                  3  4.0  4.0  8.88     79.92   \n",
       "\n",
       "    Prior Coding Level  Research  Chance of Admit  \n",
       "0                    1         1             0.92  \n",
       "1                    1         1             0.76  \n",
       "2                    0         1             0.72  \n",
       "3                    0         1             0.80  \n",
       "4                    1         0             0.65  \n",
       "..                 ...       ...              ...  \n",
       "95                   1         0             0.42  \n",
       "96                   0         0             0.48  \n",
       "97                   0         1             0.86  \n",
       "98                   1         1             0.90  \n",
       "99                   1         1             0.79  \n",
       "\n",
       "[100 rows x 9 columns]"
      ]
     },
     "execution_count": 133,
     "metadata": {},
     "output_type": "execute_result"
    }
   ],
   "source": [
    "df.head(100)"
   ]
  },
  {
   "cell_type": "code",
   "execution_count": 28,
   "id": "61fd2a6a",
   "metadata": {},
   "outputs": [
    {
     "data": {
      "text/plain": [
       "Serial No.            0\n",
       "University Rating     0\n",
       "SOP                   0\n",
       "LOR                   0\n",
       "CGPA                  0\n",
       "12 Score              0\n",
       "Prior Coding Level    0\n",
       "Research              0\n",
       "Chance of Admit       0\n",
       "dtype: int64"
      ]
     },
     "execution_count": 28,
     "metadata": {},
     "output_type": "execute_result"
    }
   ],
   "source": [
    "df.isnull().sum()"
   ]
  },
  {
   "cell_type": "code",
   "execution_count": 6,
   "id": "5870c6fa",
   "metadata": {},
   "outputs": [],
   "source": [
    "features = df.drop(['Serial No.','Chance of Admit'], axis=1)"
   ]
  },
  {
   "cell_type": "code",
   "execution_count": 7,
   "id": "d671a5b5",
   "metadata": {},
   "outputs": [
    {
     "data": {
      "text/html": [
       "<div>\n",
       "<style scoped>\n",
       "    .dataframe tbody tr th:only-of-type {\n",
       "        vertical-align: middle;\n",
       "    }\n",
       "\n",
       "    .dataframe tbody tr th {\n",
       "        vertical-align: top;\n",
       "    }\n",
       "\n",
       "    .dataframe thead th {\n",
       "        text-align: right;\n",
       "    }\n",
       "</style>\n",
       "<table border=\"1\" class=\"dataframe\">\n",
       "  <thead>\n",
       "    <tr style=\"text-align: right;\">\n",
       "      <th></th>\n",
       "      <th>University Rating</th>\n",
       "      <th>SOP</th>\n",
       "      <th>LOR</th>\n",
       "      <th>CGPA</th>\n",
       "      <th>12 Score</th>\n",
       "      <th>Prior Coding Level</th>\n",
       "      <th>Research</th>\n",
       "    </tr>\n",
       "  </thead>\n",
       "  <tbody>\n",
       "    <tr>\n",
       "      <th>0</th>\n",
       "      <td>4</td>\n",
       "      <td>4.5</td>\n",
       "      <td>4.5</td>\n",
       "      <td>9.65</td>\n",
       "      <td>86.85</td>\n",
       "      <td>1</td>\n",
       "      <td>1</td>\n",
       "    </tr>\n",
       "    <tr>\n",
       "      <th>1</th>\n",
       "      <td>4</td>\n",
       "      <td>4.0</td>\n",
       "      <td>4.5</td>\n",
       "      <td>8.87</td>\n",
       "      <td>79.83</td>\n",
       "      <td>1</td>\n",
       "      <td>1</td>\n",
       "    </tr>\n",
       "    <tr>\n",
       "      <th>2</th>\n",
       "      <td>3</td>\n",
       "      <td>3.0</td>\n",
       "      <td>3.5</td>\n",
       "      <td>8.00</td>\n",
       "      <td>72.00</td>\n",
       "      <td>0</td>\n",
       "      <td>1</td>\n",
       "    </tr>\n",
       "    <tr>\n",
       "      <th>3</th>\n",
       "      <td>3</td>\n",
       "      <td>3.5</td>\n",
       "      <td>2.5</td>\n",
       "      <td>8.67</td>\n",
       "      <td>78.03</td>\n",
       "      <td>0</td>\n",
       "      <td>1</td>\n",
       "    </tr>\n",
       "    <tr>\n",
       "      <th>4</th>\n",
       "      <td>2</td>\n",
       "      <td>2.0</td>\n",
       "      <td>3.0</td>\n",
       "      <td>8.21</td>\n",
       "      <td>73.89</td>\n",
       "      <td>1</td>\n",
       "      <td>0</td>\n",
       "    </tr>\n",
       "  </tbody>\n",
       "</table>\n",
       "</div>"
      ],
      "text/plain": [
       "   University Rating  SOP  LOR  CGPA  12 Score  Prior Coding Level  Research\n",
       "0                  4  4.5  4.5  9.65     86.85                   1         1\n",
       "1                  4  4.0  4.5  8.87     79.83                   1         1\n",
       "2                  3  3.0  3.5  8.00     72.00                   0         1\n",
       "3                  3  3.5  2.5  8.67     78.03                   0         1\n",
       "4                  2  2.0  3.0  8.21     73.89                   1         0"
      ]
     },
     "execution_count": 7,
     "metadata": {},
     "output_type": "execute_result"
    }
   ],
   "source": [
    "features.head()"
   ]
  },
  {
   "cell_type": "code",
   "execution_count": 18,
   "id": "c646ebf2",
   "metadata": {},
   "outputs": [],
   "source": [
    "label = df['Chance of Admit']"
   ]
  },
  {
   "cell_type": "code",
   "execution_count": 19,
   "id": "464ed72a",
   "metadata": {},
   "outputs": [
    {
     "data": {
      "text/plain": [
       "0    0.92\n",
       "1    0.76\n",
       "2    0.72\n",
       "3    0.80\n",
       "4    0.65\n",
       "Name: Chance of Admit, dtype: float64"
      ]
     },
     "execution_count": 19,
     "metadata": {},
     "output_type": "execute_result"
    }
   ],
   "source": [
    "label.head()"
   ]
  },
  {
   "cell_type": "code",
   "execution_count": 8,
   "id": "1b0596e2",
   "metadata": {},
   "outputs": [],
   "source": [
    "import seaborn as sns"
   ]
  },
  {
   "cell_type": "markdown",
   "id": "29c93d69",
   "metadata": {},
   "source": [
    "## Finding most correlated feature"
   ]
  },
  {
   "cell_type": "code",
   "execution_count": 112,
   "id": "cf4bc409",
   "metadata": {},
   "outputs": [
    {
     "data": {
      "text/plain": [
       "<AxesSubplot:>"
      ]
     },
     "execution_count": 112,
     "metadata": {},
     "output_type": "execute_result"
    },
    {
     "data": {
      "image/png": "[encoded data removed]",
      "text/plain": [
       "<Figure size 432x288 with 2 Axes>"
      ]
     },
     "metadata": {
      "needs_background": "light"
     },
     "output_type": "display_data"
    }
   ],
   "source": [
    "sns.heatmap(df.corr()[['Chance of Admit']].sort_values('Chance of Admit', ascending=False), annot=True)"
   ]
  },
  {
   "cell_type": "code",
   "execution_count": 111,
   "id": "a53272de",
   "metadata": {},
   "outputs": [
    {
     "data": {
      "text/html": [
       "<div>\n",
       "<style scoped>\n",
       "    .dataframe tbody tr th:only-of-type {\n",
       "        vertical-align: middle;\n",
       "    }\n",
       "\n",
       "    .dataframe tbody tr th {\n",
       "        vertical-align: top;\n",
       "    }\n",
       "\n",
       "    .dataframe thead th {\n",
       "        text-align: right;\n",
       "    }\n",
       "</style>\n",
       "<table border=\"1\" class=\"dataframe\">\n",
       "  <thead>\n",
       "    <tr style=\"text-align: right;\">\n",
       "      <th></th>\n",
       "      <th>Chance of Admit</th>\n",
       "    </tr>\n",
       "  </thead>\n",
       "  <tbody>\n",
       "    <tr>\n",
       "      <th>202</th>\n",
       "      <td>0.97</td>\n",
       "    </tr>\n",
       "    <tr>\n",
       "      <th>143</th>\n",
       "      <td>0.97</td>\n",
       "    </tr>\n",
       "    <tr>\n",
       "      <th>24</th>\n",
       "      <td>0.97</td>\n",
       "    </tr>\n",
       "    <tr>\n",
       "      <th>203</th>\n",
       "      <td>0.97</td>\n",
       "    </tr>\n",
       "    <tr>\n",
       "      <th>71</th>\n",
       "      <td>0.96</td>\n",
       "    </tr>\n",
       "    <tr>\n",
       "      <th>...</th>\n",
       "      <td>...</td>\n",
       "    </tr>\n",
       "    <tr>\n",
       "      <th>457</th>\n",
       "      <td>0.37</td>\n",
       "    </tr>\n",
       "    <tr>\n",
       "      <th>94</th>\n",
       "      <td>0.36</td>\n",
       "    </tr>\n",
       "    <tr>\n",
       "      <th>58</th>\n",
       "      <td>0.36</td>\n",
       "    </tr>\n",
       "    <tr>\n",
       "      <th>92</th>\n",
       "      <td>0.34</td>\n",
       "    </tr>\n",
       "    <tr>\n",
       "      <th>376</th>\n",
       "      <td>0.34</td>\n",
       "    </tr>\n",
       "  </tbody>\n",
       "</table>\n",
       "<p>500 rows × 1 columns</p>\n",
       "</div>"
      ],
      "text/plain": [
       "     Chance of Admit\n",
       "202             0.97\n",
       "143             0.97\n",
       "24              0.97\n",
       "203             0.97\n",
       "71              0.96\n",
       "..               ...\n",
       "457             0.37\n",
       "94              0.36\n",
       "58              0.36\n",
       "92              0.34\n",
       "376             0.34\n",
       "\n",
       "[500 rows x 1 columns]"
      ]
     },
     "execution_count": 111,
     "metadata": {},
     "output_type": "execute_result"
    }
   ],
   "source": [
    "df[['Chance of Admit']].sort_values('Chance of Admit', ascending=False)"
   ]
  },
  {
   "cell_type": "code",
   "execution_count": 13,
   "id": "ff470645",
   "metadata": {},
   "outputs": [],
   "source": [
    "from sklearn.preprocessing import MinMaxScaler"
   ]
  },
  {
   "cell_type": "code",
   "execution_count": 15,
   "id": "85a8c55b",
   "metadata": {},
   "outputs": [],
   "source": [
    "scaler = MinMaxScaler()\n",
    "scaler.fit(features[['University Rating']])\n",
    "features['University Rating']= scaler.transform(features[['University Rating']])\n",
    "\n",
    "scaler.fit(features[['SOP']])\n",
    "features['SOP']= scaler.transform(features[['SOP']])\n",
    "\n",
    "scaler.fit(features[['LOR']])\n",
    "features['LOR']= scaler.transform(features[['LOR']])\n",
    "\n",
    "scaler.fit(features[['CGPA']])\n",
    "features['CGPA']= scaler.transform(features[['CGPA']])\n",
    "\n",
    "scaler.fit(features[['12 Score']])\n",
    "features['12 Score']= scaler.transform(features[['12 Score']])\n",
    "\n",
    "scaler.fit(features[['Prior Coding Level']])\n",
    "features['Prior Coding Level']= scaler.transform(features[['Prior Coding Level']])\n",
    "\n",
    "scaler.fit(features[['Research']])\n",
    "features['Research']= scaler.transform(features[['Research']])"
   ]
  },
  {
   "cell_type": "code",
   "execution_count": 16,
   "id": "a50e5cc8",
   "metadata": {},
   "outputs": [
    {
     "data": {
      "text/html": [
       "<div>\n",
       "<style scoped>\n",
       "    .dataframe tbody tr th:only-of-type {\n",
       "        vertical-align: middle;\n",
       "    }\n",
       "\n",
       "    .dataframe tbody tr th {\n",
       "        vertical-align: top;\n",
       "    }\n",
       "\n",
       "    .dataframe thead th {\n",
       "        text-align: right;\n",
       "    }\n",
       "</style>\n",
       "<table border=\"1\" class=\"dataframe\">\n",
       "  <thead>\n",
       "    <tr style=\"text-align: right;\">\n",
       "      <th></th>\n",
       "      <th>University Rating</th>\n",
       "      <th>SOP</th>\n",
       "      <th>LOR</th>\n",
       "      <th>CGPA</th>\n",
       "      <th>12 Score</th>\n",
       "      <th>Prior Coding Level</th>\n",
       "      <th>Research</th>\n",
       "    </tr>\n",
       "  </thead>\n",
       "  <tbody>\n",
       "    <tr>\n",
       "      <th>0</th>\n",
       "      <td>0.75</td>\n",
       "      <td>0.875</td>\n",
       "      <td>0.875</td>\n",
       "      <td>0.913462</td>\n",
       "      <td>0.913462</td>\n",
       "      <td>1.0</td>\n",
       "      <td>1.0</td>\n",
       "    </tr>\n",
       "    <tr>\n",
       "      <th>1</th>\n",
       "      <td>0.75</td>\n",
       "      <td>0.750</td>\n",
       "      <td>0.875</td>\n",
       "      <td>0.663462</td>\n",
       "      <td>0.663462</td>\n",
       "      <td>1.0</td>\n",
       "      <td>1.0</td>\n",
       "    </tr>\n",
       "    <tr>\n",
       "      <th>2</th>\n",
       "      <td>0.50</td>\n",
       "      <td>0.500</td>\n",
       "      <td>0.625</td>\n",
       "      <td>0.384615</td>\n",
       "      <td>0.384615</td>\n",
       "      <td>0.0</td>\n",
       "      <td>1.0</td>\n",
       "    </tr>\n",
       "    <tr>\n",
       "      <th>3</th>\n",
       "      <td>0.50</td>\n",
       "      <td>0.625</td>\n",
       "      <td>0.375</td>\n",
       "      <td>0.599359</td>\n",
       "      <td>0.599359</td>\n",
       "      <td>0.0</td>\n",
       "      <td>1.0</td>\n",
       "    </tr>\n",
       "    <tr>\n",
       "      <th>4</th>\n",
       "      <td>0.25</td>\n",
       "      <td>0.250</td>\n",
       "      <td>0.500</td>\n",
       "      <td>0.451923</td>\n",
       "      <td>0.451923</td>\n",
       "      <td>1.0</td>\n",
       "      <td>0.0</td>\n",
       "    </tr>\n",
       "  </tbody>\n",
       "</table>\n",
       "</div>"
      ],
      "text/plain": [
       "   University Rating    SOP    LOR      CGPA  12 Score  Prior Coding Level  \\\n",
       "0               0.75  0.875  0.875  0.913462  0.913462                 1.0   \n",
       "1               0.75  0.750  0.875  0.663462  0.663462                 1.0   \n",
       "2               0.50  0.500  0.625  0.384615  0.384615                 0.0   \n",
       "3               0.50  0.625  0.375  0.599359  0.599359                 0.0   \n",
       "4               0.25  0.250  0.500  0.451923  0.451923                 1.0   \n",
       "\n",
       "   Research  \n",
       "0       1.0  \n",
       "1       1.0  \n",
       "2       1.0  \n",
       "3       1.0  \n",
       "4       0.0  "
      ]
     },
     "execution_count": 16,
     "metadata": {},
     "output_type": "execute_result"
    }
   ],
   "source": [
    "features.head()"
   ]
  },
  {
   "cell_type": "markdown",
   "id": "25e8f903",
   "metadata": {},
   "source": [
    "## 1) Taking the most correlated feature (Simple Linear Regression)\n",
    "\n",
    "##  - 12 Score\t"
   ]
  },
  {
   "cell_type": "code",
   "execution_count": 21,
   "id": "bd891edb",
   "metadata": {},
   "outputs": [
    {
     "data": {
      "text/plain": [
       "0    0.92\n",
       "1    0.76\n",
       "2    0.72\n",
       "3    0.80\n",
       "4    0.65\n",
       "Name: Chance of Admit, dtype: float64"
      ]
     },
     "execution_count": 21,
     "metadata": {},
     "output_type": "execute_result"
    }
   ],
   "source": [
    "label.head()"
   ]
  },
  {
   "cell_type": "code",
   "execution_count": 22,
   "id": "bd6edabb",
   "metadata": {},
   "outputs": [],
   "source": [
    "from sklearn import linear_model"
   ]
  },
  {
   "cell_type": "code",
   "execution_count": 24,
   "id": "6fa9c1ed",
   "metadata": {},
   "outputs": [],
   "source": [
    "model_1 = linear_model.LinearRegression()"
   ]
  },
  {
   "cell_type": "code",
   "execution_count": 29,
   "id": "a248a247",
   "metadata": {},
   "outputs": [
    {
     "data": {
      "text/plain": [
       "LinearRegression()"
      ]
     },
     "execution_count": 29,
     "metadata": {},
     "output_type": "execute_result"
    }
   ],
   "source": [
    "model_1.fit(features[['12 Score']], label)"
   ]
  },
  {
   "cell_type": "code",
   "execution_count": 33,
   "id": "908f7c54",
   "metadata": {},
   "outputs": [],
   "source": [
    "y_pred_1 = model_1.predict(features[['12 Score']])"
   ]
  },
  {
   "cell_type": "markdown",
   "id": "17536bcd",
   "metadata": {},
   "source": [
    "### coefficients"
   ]
  },
  {
   "cell_type": "code",
   "execution_count": 30,
   "id": "9575a3b0",
   "metadata": {},
   "outputs": [
    {
     "data": {
      "text/plain": [
       "array([0.64247564])"
      ]
     },
     "execution_count": 30,
     "metadata": {},
     "output_type": "execute_result"
    }
   ],
   "source": [
    "model_1.coef_"
   ]
  },
  {
   "cell_type": "markdown",
   "id": "08931587",
   "metadata": {},
   "source": [
    "### intercept"
   ]
  },
  {
   "cell_type": "code",
   "execution_count": 31,
   "id": "5fa4c6b9",
   "metadata": {},
   "outputs": [
    {
     "data": {
      "text/plain": [
       "0.35593249271128724"
      ]
     },
     "execution_count": 31,
     "metadata": {},
     "output_type": "execute_result"
    }
   ],
   "source": [
    "model_1.intercept_"
   ]
  },
  {
   "cell_type": "markdown",
   "id": "e2b36d86",
   "metadata": {},
   "source": [
    "### mean_squared_error"
   ]
  },
  {
   "cell_type": "code",
   "execution_count": 34,
   "id": "89cc9d32",
   "metadata": {},
   "outputs": [],
   "source": [
    "def mean_squared_error(actual, predicted):\n",
    "    '''mean_squared_error is mean of square of difference between actual label and predicted label'''\n",
    "    a = ((actual-predicted)*(actual-predicted)).mean()\n",
    "    return a"
   ]
  },
  {
   "cell_type": "code",
   "execution_count": 35,
   "id": "975f19b5",
   "metadata": {},
   "outputs": [
    {
     "data": {
      "text/plain": [
       "0.004400570156519558"
      ]
     },
     "execution_count": 35,
     "metadata": {},
     "output_type": "execute_result"
    }
   ],
   "source": [
    "mean_squared_error(label, y_pred_1)"
   ]
  },
  {
   "cell_type": "markdown",
   "id": "e348671a",
   "metadata": {},
   "source": [
    "### mean_absolute_error"
   ]
  },
  {
   "cell_type": "code",
   "execution_count": 36,
   "id": "9985a730",
   "metadata": {},
   "outputs": [],
   "source": [
    "def mean_absolute_error(actual, predicted):\n",
    "    '''mean_squared_error is mean of difference between actual label and predicted label'''\n",
    "    a = (actual-predicted).mean()\n",
    "    return a"
   ]
  },
  {
   "cell_type": "code",
   "execution_count": 38,
   "id": "be73113b",
   "metadata": {},
   "outputs": [
    {
     "data": {
      "text/plain": [
       "-2.19824158875781e-17"
      ]
     },
     "execution_count": 38,
     "metadata": {},
     "output_type": "execute_result"
    }
   ],
   "source": [
    "mean_absolute_error(label, y_pred_1)"
   ]
  },
  {
   "cell_type": "markdown",
   "id": "7aa40aae",
   "metadata": {},
   "source": [
    "### r2_score"
   ]
  },
  {
   "cell_type": "code",
   "execution_count": 39,
   "id": "40b45d23",
   "metadata": {},
   "outputs": [],
   "source": [
    "from sklearn.metrics import r2_score"
   ]
  },
  {
   "cell_type": "code",
   "execution_count": 40,
   "id": "93277c6e",
   "metadata": {},
   "outputs": [
    {
     "data": {
      "text/plain": [
       "0.7786519523497208"
      ]
     },
     "execution_count": 40,
     "metadata": {},
     "output_type": "execute_result"
    }
   ],
   "source": [
    "r2_score(label, y_pred_1)"
   ]
  },
  {
   "cell_type": "code",
   "execution_count": 76,
   "id": "2927920d",
   "metadata": {},
   "outputs": [],
   "source": [
    "def r2_score_(actual, predicted):\n",
    "    ''' by using formula for r2_score = 1 - square of sdifference of actual y and predicted y / square of difference of actual y and mean y'''\n",
    "    return 1-(((actual - predicted)*(actual - predicted)).sum()/((actual - actual.mean())*(actual - actual.mean())).sum())"
   ]
  },
  {
   "cell_type": "code",
   "execution_count": 68,
   "id": "71c2ec6c",
   "metadata": {},
   "outputs": [
    {
     "data": {
      "text/plain": [
       "0.778651952349721"
      ]
     },
     "execution_count": 68,
     "metadata": {},
     "output_type": "execute_result"
    }
   ],
   "source": [
    "r2_score_(label, y_pred_1)"
   ]
  },
  {
   "cell_type": "markdown",
   "id": "9cc789fe",
   "metadata": {},
   "source": [
    "### adjusted r2_score"
   ]
  },
  {
   "cell_type": "code",
   "execution_count": 102,
   "id": "8170dc8b",
   "metadata": {},
   "outputs": [],
   "source": [
    "def adjusted_r2_score_1(actual, predicted):\n",
    "    '''used formula of adjusted r2 score '''\n",
    "    a = ((1-r2_score_(actual, predicted))*(len(actual)-1))/(len(actual)-1-1)\n",
    "    return 1-a                                                       "
   ]
  },
  {
   "cell_type": "code",
   "execution_count": 103,
   "id": "2f75107d",
   "metadata": {},
   "outputs": [
    {
     "data": {
      "text/plain": [
       "0.7782074783584554"
      ]
     },
     "execution_count": 103,
     "metadata": {},
     "output_type": "execute_result"
    }
   ],
   "source": [
    "adjusted_r2_score_1(label, y_pred_1)"
   ]
  },
  {
   "cell_type": "code",
   "execution_count": 82,
   "id": "709b190e",
   "metadata": {},
   "outputs": [
    {
     "data": {
      "text/plain": [
       "[<matplotlib.lines.Line2D at 0x1f8d9f97730>]"
      ]
     },
     "execution_count": 82,
     "metadata": {},
     "output_type": "execute_result"
    },
    {
     "data": {
      "image/png": "[encoded data removed]",
      "text/plain": [
       "<Figure size 432x360 with 1 Axes>"
      ]
     },
     "metadata": {
      "needs_background": "light"
     },
     "output_type": "display_data"
    }
   ],
   "source": [
    "plt.figure(figsize=(6,5))\n",
    "plt.scatter(features['12 Score'], label)\n",
    "plt.plot(features['12 Score'], y_pred_1, color = 'red')"
   ]
  },
  {
   "cell_type": "code",
   "execution_count": 118,
   "id": "63dce41b",
   "metadata": {},
   "outputs": [
    {
     "data": {
      "text/plain": [
       "0.6424756382094439"
      ]
     },
     "execution_count": 118,
     "metadata": {},
     "output_type": "execute_result"
    }
   ],
   "source": [
    "(y_pred_1[1]-y_pred_1[0])/(features['12 Score'][1]-features['12 Score'][0])"
   ]
  },
  {
   "cell_type": "code",
   "execution_count": 119,
   "id": "13c40950",
   "metadata": {},
   "outputs": [
    {
     "data": {
      "text/plain": [
       "0.35593249271128713"
      ]
     },
     "execution_count": 119,
     "metadata": {},
     "output_type": "execute_result"
    }
   ],
   "source": [
    "y_pred_1[0]-(0.6424756382094439*features['12 Score'][0])"
   ]
  },
  {
   "cell_type": "markdown",
   "id": "feeaceb3",
   "metadata": {},
   "source": [
    "## 2) Taking the top four correlated feature (Multiple Linear Regression) and name the features\n",
    "\n",
    "## - 12 Score\t\n",
    "## - CGPA\n",
    "## - University Rating\t\n",
    "## - SOP"
   ]
  },
  {
   "cell_type": "code",
   "execution_count": 53,
   "id": "58df7426",
   "metadata": {},
   "outputs": [],
   "source": [
    "model_2 = linear_model.LinearRegression()"
   ]
  },
  {
   "cell_type": "code",
   "execution_count": 54,
   "id": "d12f3107",
   "metadata": {},
   "outputs": [
    {
     "data": {
      "text/plain": [
       "LinearRegression()"
      ]
     },
     "execution_count": 54,
     "metadata": {},
     "output_type": "execute_result"
    }
   ],
   "source": [
    "model_2.fit(features[['12 Score', 'CGPA','University Rating','SOP']], label)"
   ]
  },
  {
   "cell_type": "code",
   "execution_count": 55,
   "id": "78551b50",
   "metadata": {},
   "outputs": [],
   "source": [
    "y_pred_2 = model_2.predict(features[['12 Score', 'CGPA','University Rating','SOP']])"
   ]
  },
  {
   "cell_type": "markdown",
   "id": "20f22535",
   "metadata": {},
   "source": [
    "### coefficients"
   ]
  },
  {
   "cell_type": "code",
   "execution_count": 57,
   "id": "62054720",
   "metadata": {},
   "outputs": [
    {
     "data": {
      "text/plain": [
       "array([-9.54266866e+12,  9.54266866e+12,  5.18886535e-02,  3.75842676e-02])"
      ]
     },
     "execution_count": 57,
     "metadata": {},
     "output_type": "execute_result"
    }
   ],
   "source": [
    "model_2.coef_"
   ]
  },
  {
   "cell_type": "markdown",
   "id": "b20c7b5f",
   "metadata": {},
   "source": [
    "### intercept"
   ]
  },
  {
   "cell_type": "code",
   "execution_count": 58,
   "id": "fb590144",
   "metadata": {},
   "outputs": [
    {
     "data": {
      "text/plain": [
       "0.35259937500000005"
      ]
     },
     "execution_count": 58,
     "metadata": {},
     "output_type": "execute_result"
    }
   ],
   "source": [
    "model_2.intercept_"
   ]
  },
  {
   "cell_type": "markdown",
   "id": "3ce9e02d",
   "metadata": {},
   "source": [
    "### mean_squared_error"
   ]
  },
  {
   "cell_type": "code",
   "execution_count": 59,
   "id": "f08d3bbd",
   "metadata": {},
   "outputs": [
    {
     "data": {
      "text/plain": [
       "0.004179274921676473"
      ]
     },
     "execution_count": 59,
     "metadata": {},
     "output_type": "execute_result"
    }
   ],
   "source": [
    "mean_squared_error(label, y_pred_2)"
   ]
  },
  {
   "cell_type": "markdown",
   "id": "6ccd236e",
   "metadata": {},
   "source": [
    "### mean_absolute_error"
   ]
  },
  {
   "cell_type": "code",
   "execution_count": 60,
   "id": "4afc526f",
   "metadata": {},
   "outputs": [
    {
     "data": {
      "text/plain": [
       "0.00019654065172512126"
      ]
     },
     "execution_count": 60,
     "metadata": {},
     "output_type": "execute_result"
    }
   ],
   "source": [
    "mean_absolute_error(label, y_pred_2)"
   ]
  },
  {
   "cell_type": "markdown",
   "id": "68694f11",
   "metadata": {},
   "source": [
    "### r2_score"
   ]
  },
  {
   "cell_type": "code",
   "execution_count": 75,
   "id": "c1dd84ae",
   "metadata": {},
   "outputs": [
    {
     "data": {
      "text/plain": [
       "0.7897830709194945"
      ]
     },
     "execution_count": 75,
     "metadata": {},
     "output_type": "execute_result"
    }
   ],
   "source": [
    "r2_score_(label, y_pred_2)"
   ]
  },
  {
   "cell_type": "markdown",
   "id": "536e3040",
   "metadata": {},
   "source": [
    "### adjusted r2_score"
   ]
  },
  {
   "cell_type": "code",
   "execution_count": 104,
   "id": "1d947f94",
   "metadata": {},
   "outputs": [],
   "source": [
    "def adjusted_r2_score_2(actual, predicted):\n",
    "    '''used formula of adjusted r2 score '''\n",
    "    a = ((1-r2_score_(actual, predicted))*(len(actual)-1))/(len(actual)-4-1)\n",
    "    return 1-a "
   ]
  },
  {
   "cell_type": "code",
   "execution_count": 99,
   "id": "cc4180c4",
   "metadata": {},
   "outputs": [
    {
     "data": {
      "text/plain": [
       "0.7880843482602581"
      ]
     },
     "execution_count": 99,
     "metadata": {},
     "output_type": "execute_result"
    }
   ],
   "source": [
    "adjusted_r2_score_2(label, y_pred_2)"
   ]
  },
  {
   "cell_type": "markdown",
   "id": "2b4765ca",
   "metadata": {},
   "source": [
    "## 3)Taking all feature (Multiple Linear Regression)\n"
   ]
  },
  {
   "cell_type": "code",
   "execution_count": 63,
   "id": "59ecd207",
   "metadata": {},
   "outputs": [
    {
     "data": {
      "text/html": [
       "<div>\n",
       "<style scoped>\n",
       "    .dataframe tbody tr th:only-of-type {\n",
       "        vertical-align: middle;\n",
       "    }\n",
       "\n",
       "    .dataframe tbody tr th {\n",
       "        vertical-align: top;\n",
       "    }\n",
       "\n",
       "    .dataframe thead th {\n",
       "        text-align: right;\n",
       "    }\n",
       "</style>\n",
       "<table border=\"1\" class=\"dataframe\">\n",
       "  <thead>\n",
       "    <tr style=\"text-align: right;\">\n",
       "      <th></th>\n",
       "      <th>University Rating</th>\n",
       "      <th>SOP</th>\n",
       "      <th>LOR</th>\n",
       "      <th>CGPA</th>\n",
       "      <th>12 Score</th>\n",
       "      <th>Prior Coding Level</th>\n",
       "      <th>Research</th>\n",
       "    </tr>\n",
       "  </thead>\n",
       "  <tbody>\n",
       "    <tr>\n",
       "      <th>0</th>\n",
       "      <td>0.75</td>\n",
       "      <td>0.875</td>\n",
       "      <td>0.875</td>\n",
       "      <td>0.913462</td>\n",
       "      <td>0.913462</td>\n",
       "      <td>1.0</td>\n",
       "      <td>1.0</td>\n",
       "    </tr>\n",
       "    <tr>\n",
       "      <th>1</th>\n",
       "      <td>0.75</td>\n",
       "      <td>0.750</td>\n",
       "      <td>0.875</td>\n",
       "      <td>0.663462</td>\n",
       "      <td>0.663462</td>\n",
       "      <td>1.0</td>\n",
       "      <td>1.0</td>\n",
       "    </tr>\n",
       "    <tr>\n",
       "      <th>2</th>\n",
       "      <td>0.50</td>\n",
       "      <td>0.500</td>\n",
       "      <td>0.625</td>\n",
       "      <td>0.384615</td>\n",
       "      <td>0.384615</td>\n",
       "      <td>0.0</td>\n",
       "      <td>1.0</td>\n",
       "    </tr>\n",
       "    <tr>\n",
       "      <th>3</th>\n",
       "      <td>0.50</td>\n",
       "      <td>0.625</td>\n",
       "      <td>0.375</td>\n",
       "      <td>0.599359</td>\n",
       "      <td>0.599359</td>\n",
       "      <td>0.0</td>\n",
       "      <td>1.0</td>\n",
       "    </tr>\n",
       "    <tr>\n",
       "      <th>4</th>\n",
       "      <td>0.25</td>\n",
       "      <td>0.250</td>\n",
       "      <td>0.500</td>\n",
       "      <td>0.451923</td>\n",
       "      <td>0.451923</td>\n",
       "      <td>1.0</td>\n",
       "      <td>0.0</td>\n",
       "    </tr>\n",
       "  </tbody>\n",
       "</table>\n",
       "</div>"
      ],
      "text/plain": [
       "   University Rating    SOP    LOR      CGPA  12 Score  Prior Coding Level  \\\n",
       "0               0.75  0.875  0.875  0.913462  0.913462                 1.0   \n",
       "1               0.75  0.750  0.875  0.663462  0.663462                 1.0   \n",
       "2               0.50  0.500  0.625  0.384615  0.384615                 0.0   \n",
       "3               0.50  0.625  0.375  0.599359  0.599359                 0.0   \n",
       "4               0.25  0.250  0.500  0.451923  0.451923                 1.0   \n",
       "\n",
       "   Research  \n",
       "0       1.0  \n",
       "1       1.0  \n",
       "2       1.0  \n",
       "3       1.0  \n",
       "4       0.0  "
      ]
     },
     "execution_count": 63,
     "metadata": {},
     "output_type": "execute_result"
    }
   ],
   "source": [
    "features.head()"
   ]
  },
  {
   "cell_type": "code",
   "execution_count": 64,
   "id": "b4d30597",
   "metadata": {},
   "outputs": [],
   "source": [
    "model_3 = linear_model.LinearRegression()"
   ]
  },
  {
   "cell_type": "code",
   "execution_count": 65,
   "id": "f2d1466a",
   "metadata": {},
   "outputs": [
    {
     "data": {
      "text/plain": [
       "LinearRegression()"
      ]
     },
     "execution_count": 65,
     "metadata": {},
     "output_type": "execute_result"
    }
   ],
   "source": [
    "model_3.fit(features, label)"
   ]
  },
  {
   "cell_type": "code",
   "execution_count": 66,
   "id": "ba5778de",
   "metadata": {},
   "outputs": [],
   "source": [
    "y_pred_3 = model_3.predict(features)"
   ]
  },
  {
   "cell_type": "markdown",
   "id": "4bc847eb",
   "metadata": {},
   "source": [
    "### coefficients"
   ]
  },
  {
   "cell_type": "code",
   "execution_count": 69,
   "id": "b13134b8",
   "metadata": {},
   "outputs": [
    {
     "data": {
      "text/plain": [
       "array([ 3.62301782e-02,  1.53324023e-02,  6.01360246e-02,  3.68687877e+12,\n",
       "       -3.68687877e+12, -2.89219961e-03,  3.44917821e-02])"
      ]
     },
     "execution_count": 69,
     "metadata": {},
     "output_type": "execute_result"
    }
   ],
   "source": [
    "model_3.coef_"
   ]
  },
  {
   "cell_type": "markdown",
   "id": "c5969def",
   "metadata": {},
   "source": [
    "### intercept"
   ]
  },
  {
   "cell_type": "code",
   "execution_count": 70,
   "id": "a4c8eabd",
   "metadata": {},
   "outputs": [
    {
     "data": {
      "text/plain": [
       "0.35308765625000005"
      ]
     },
     "execution_count": 70,
     "metadata": {},
     "output_type": "execute_result"
    }
   ],
   "source": [
    "model_3.intercept_"
   ]
  },
  {
   "cell_type": "code",
   "execution_count": null,
   "id": "01f590b2",
   "metadata": {},
   "outputs": [],
   "source": []
  },
  {
   "cell_type": "markdown",
   "id": "7114bbc3",
   "metadata": {},
   "source": [
    "### mean_squared_error"
   ]
  },
  {
   "cell_type": "code",
   "execution_count": 71,
   "id": "f9a696b4",
   "metadata": {},
   "outputs": [
    {
     "data": {
      "text/plain": [
       "0.003852833644720477"
      ]
     },
     "execution_count": 71,
     "metadata": {},
     "output_type": "execute_result"
    }
   ],
   "source": [
    "mean_squared_error(label, y_pred_3)"
   ]
  },
  {
   "cell_type": "markdown",
   "id": "f2c3e1c4",
   "metadata": {},
   "source": [
    "### mean_absolute_error"
   ]
  },
  {
   "cell_type": "code",
   "execution_count": 72,
   "id": "ea95674e",
   "metadata": {},
   "outputs": [
    {
     "data": {
      "text/plain": [
       "-6.773338864293177e-05"
      ]
     },
     "execution_count": 72,
     "metadata": {},
     "output_type": "execute_result"
    }
   ],
   "source": [
    "mean_absolute_error(label, y_pred_3)"
   ]
  },
  {
   "cell_type": "markdown",
   "id": "171d8a2b",
   "metadata": {},
   "source": [
    "### r2_score"
   ]
  },
  {
   "cell_type": "code",
   "execution_count": 73,
   "id": "62f086e0",
   "metadata": {},
   "outputs": [
    {
     "data": {
      "text/plain": [
       "0.8062030203252828"
      ]
     },
     "execution_count": 73,
     "metadata": {},
     "output_type": "execute_result"
    }
   ],
   "source": [
    "r2_score_(label, y_pred_3)"
   ]
  },
  {
   "cell_type": "markdown",
   "id": "d5b85ebe",
   "metadata": {},
   "source": [
    "### adjusted r2_score"
   ]
  },
  {
   "cell_type": "code",
   "execution_count": 105,
   "id": "9b6c9b1d",
   "metadata": {},
   "outputs": [],
   "source": [
    "def adjusted_r2_score_3(actual, predicted):\n",
    "    '''used formula of adjusted r2 score '''\n",
    "    a = ((1-r2_score_(actual, predicted))*(len(actual)-1))/(len(actual)-7-1)\n",
    "    return 1-a "
   ]
  },
  {
   "cell_type": "code",
   "execution_count": 101,
   "id": "973e1cb7",
   "metadata": {},
   "outputs": [
    {
     "data": {
      "text/plain": [
       "0.8034457462242197"
      ]
     },
     "execution_count": 101,
     "metadata": {},
     "output_type": "execute_result"
    }
   ],
   "source": [
    "adjusted_r2_score_3(label,y_pred_3)"
   ]
  },
  {
   "cell_type": "code",
   "execution_count": 123,
   "id": "54bffbd4",
   "metadata": {},
   "outputs": [
    {
     "data": {
      "text/plain": [
       "<matplotlib.collections.PathCollection at 0x1f8da8c23d0>"
      ]
     },
     "execution_count": 123,
     "metadata": {},
     "output_type": "execute_result"
    },
    {
     "data": {
      "image/png": "[encoded data removed]",
      "text/plain": [
       "<Figure size 504x432 with 1 Axes>"
      ]
     },
     "metadata": {
      "needs_background": "light"
     },
     "output_type": "display_data"
    }
   ],
   "source": [
    "plt.figure(figsize=(7,6))\n",
    "plt.scatter(features['CGPA'], label)\n",
    "plt.scatter(features['CGPA'], y_pred_3)"
   ]
  },
  {
   "cell_type": "code",
   "execution_count": 124,
   "id": "8d1ecfc4",
   "metadata": {},
   "outputs": [
    {
     "data": {
      "text/plain": [
       "<matplotlib.collections.PathCollection at 0x1f8da228250>"
      ]
     },
     "execution_count": 124,
     "metadata": {},
     "output_type": "execute_result"
    },
    {
     "data": {
      "image/png": "[encoded data removed]",
      "text/plain": [
       "<Figure size 504x432 with 1 Axes>"
      ]
     },
     "metadata": {
      "needs_background": "light"
     },
     "output_type": "display_data"
    }
   ],
   "source": [
    "plt.figure(figsize=(7,6))\n",
    "plt.scatter(features['CGPA'], label)\n",
    "plt.scatter(features['CGPA'], y_pred_2)"
   ]
  },
  {
   "cell_type": "code",
   "execution_count": 132,
   "id": "6827db22",
   "metadata": {},
   "outputs": [
    {
     "data": {
      "text/plain": [
       "<matplotlib.collections.PathCollection at 0x1f8da700970>"
      ]
     },
     "execution_count": 132,
     "metadata": {},
     "output_type": "execute_result"
    },
    {
     "data": {
      "image/png": "[encoded data removed]",
      "text/plain": [
       "<Figure size 504x432 with 1 Axes>"
      ]
     },
     "metadata": {
      "needs_background": "light"
     },
     "output_type": "display_data"
    }
   ],
   "source": [
    "plt.figure(figsize=(7,6))\n",
    "plt.scatter(features['12 Score'], label)\n",
    "plt.scatter(features['12 Score'], y_pred_2)"
   ]
  },
  {
   "cell_type": "code",
   "execution_count": 127,
   "id": "7b534a5d",
   "metadata": {},
   "outputs": [
    {
     "data": {
      "text/html": [
       "<div>\n",
       "<style scoped>\n",
       "    .dataframe tbody tr th:only-of-type {\n",
       "        vertical-align: middle;\n",
       "    }\n",
       "\n",
       "    .dataframe tbody tr th {\n",
       "        vertical-align: top;\n",
       "    }\n",
       "\n",
       "    .dataframe thead th {\n",
       "        text-align: right;\n",
       "    }\n",
       "</style>\n",
       "<table border=\"1\" class=\"dataframe\">\n",
       "  <thead>\n",
       "    <tr style=\"text-align: right;\">\n",
       "      <th></th>\n",
       "      <th>Serial No.</th>\n",
       "      <th>University Rating</th>\n",
       "      <th>SOP</th>\n",
       "      <th>LOR</th>\n",
       "      <th>CGPA</th>\n",
       "      <th>12 Score</th>\n",
       "      <th>Prior Coding Level</th>\n",
       "      <th>Research</th>\n",
       "      <th>Chance of Admit</th>\n",
       "    </tr>\n",
       "  </thead>\n",
       "  <tbody>\n",
       "    <tr>\n",
       "      <th>0</th>\n",
       "      <td>1</td>\n",
       "      <td>4</td>\n",
       "      <td>4.5</td>\n",
       "      <td>4.5</td>\n",
       "      <td>9.65</td>\n",
       "      <td>86.85</td>\n",
       "      <td>1</td>\n",
       "      <td>1</td>\n",
       "      <td>0.92</td>\n",
       "    </tr>\n",
       "    <tr>\n",
       "      <th>1</th>\n",
       "      <td>2</td>\n",
       "      <td>4</td>\n",
       "      <td>4.0</td>\n",
       "      <td>4.5</td>\n",
       "      <td>8.87</td>\n",
       "      <td>79.83</td>\n",
       "      <td>1</td>\n",
       "      <td>1</td>\n",
       "      <td>0.76</td>\n",
       "    </tr>\n",
       "    <tr>\n",
       "      <th>2</th>\n",
       "      <td>3</td>\n",
       "      <td>3</td>\n",
       "      <td>3.0</td>\n",
       "      <td>3.5</td>\n",
       "      <td>8.00</td>\n",
       "      <td>72.00</td>\n",
       "      <td>0</td>\n",
       "      <td>1</td>\n",
       "      <td>0.72</td>\n",
       "    </tr>\n",
       "    <tr>\n",
       "      <th>3</th>\n",
       "      <td>4</td>\n",
       "      <td>3</td>\n",
       "      <td>3.5</td>\n",
       "      <td>2.5</td>\n",
       "      <td>8.67</td>\n",
       "      <td>78.03</td>\n",
       "      <td>0</td>\n",
       "      <td>1</td>\n",
       "      <td>0.80</td>\n",
       "    </tr>\n",
       "    <tr>\n",
       "      <th>4</th>\n",
       "      <td>5</td>\n",
       "      <td>2</td>\n",
       "      <td>2.0</td>\n",
       "      <td>3.0</td>\n",
       "      <td>8.21</td>\n",
       "      <td>73.89</td>\n",
       "      <td>1</td>\n",
       "      <td>0</td>\n",
       "      <td>0.65</td>\n",
       "    </tr>\n",
       "  </tbody>\n",
       "</table>\n",
       "</div>"
      ],
      "text/plain": [
       "   Serial No.  University Rating  SOP  LOR  CGPA  12 Score  \\\n",
       "0           1                  4  4.5  4.5  9.65     86.85   \n",
       "1           2                  4  4.0  4.5  8.87     79.83   \n",
       "2           3                  3  3.0  3.5  8.00     72.00   \n",
       "3           4                  3  3.5  2.5  8.67     78.03   \n",
       "4           5                  2  2.0  3.0  8.21     73.89   \n",
       "\n",
       "   Prior Coding Level  Research  Chance of Admit  \n",
       "0                   1         1             0.92  \n",
       "1                   1         1             0.76  \n",
       "2                   0         1             0.72  \n",
       "3                   0         1             0.80  \n",
       "4                   1         0             0.65  "
      ]
     },
     "execution_count": 127,
     "metadata": {},
     "output_type": "execute_result"
    }
   ],
   "source": [
    "df.head()"
   ]
  },
  {
   "cell_type": "code",
   "execution_count": null,
   "id": "a35ba832",
   "metadata": {},
   "outputs": [],
   "source": []
  }
 ],
 "metadata": {
  "kernelspec": {
   "display_name": "Python 3 (ipykernel)",
   "language": "python",
   "name": "python3"
  },
  "language_info": {
   "codemirror_mode": {
    "name": "ipython",
    "version": 3
   },
   "file_extension": ".py",
   "mimetype": "text/x-python",
   "name": "python",
   "nbconvert_exporter": "python",
   "pygments_lexer": "ipython3",
   "version": "3.9.12"
  }
 },
 "nbformat": 4,
 "nbformat_minor": 5
}
