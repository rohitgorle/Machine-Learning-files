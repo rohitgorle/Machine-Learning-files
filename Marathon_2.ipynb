{
 "cells": [
  {
   "cell_type": "markdown",
   "id": "c4bdb830",
   "metadata": {},
   "source": [
    "### 1) Define a Sigmoid function in Python and predict the output on following values X = 1,6.4,67,455,45,632 Plot graph in between Input and Output\n"
   ]
  },
  {
   "cell_type": "code",
   "execution_count": 11,
   "id": "fdf01fe4",
   "metadata": {},
   "outputs": [],
   "source": [
    "import numpy as np\n",
    "import matplotlib.pyplot as plt"
   ]
  },
  {
   "cell_type": "code",
   "execution_count": 12,
   "id": "e985fdfc",
   "metadata": {},
   "outputs": [],
   "source": [
    "x = np.array([1,6.4,67,455,45,632])\n"
   ]
  },
  {
   "cell_type": "code",
   "execution_count": 13,
   "id": "e2006ace",
   "metadata": {},
   "outputs": [],
   "source": [
    "y = 1/(1+np.exp(-x))"
   ]
  },
  {
   "cell_type": "code",
   "execution_count": 14,
   "id": "8b830460",
   "metadata": {},
   "outputs": [
    {
     "data": {
      "text/plain": [
       "array([0.73105858, 0.9983412 , 1.        , 1.        , 1.        ,\n",
       "       1.        ])"
      ]
     },
     "execution_count": 14,
     "metadata": {},
     "output_type": "execute_result"
    }
   ],
   "source": [
    "y"
   ]
  },
  {
   "cell_type": "code",
   "execution_count": 15,
   "id": "f8b5620e",
   "metadata": {},
   "outputs": [
    {
     "data": {
      "text/plain": [
       "<matplotlib.collections.PathCollection at 0x2e30be50070>"
      ]
     },
     "execution_count": 15,
     "metadata": {},
     "output_type": "execute_result"
    },
    {
     "data": {
      "image/png": "[encoded data removed]",
      "text/plain": [
       "<Figure size 432x360 with 1 Axes>"
      ]
     },
     "metadata": {
      "needs_background": "light"
     },
     "output_type": "display_data"
    }
   ],
   "source": [
    "plt.figure(figsize=(6,5))\n",
    "plt.scatter(x,y)"
   ]
  },
  {
   "cell_type": "markdown",
   "id": "43f4caae",
   "metadata": {},
   "source": [
    "### 2) Calculate Precision and Recall\n",
    "                  Predicted Positive\n",
    " - Actual Negative 124 17\n",
    " - Actual Positive 62 450"
   ]
  },
  {
   "cell_type": "code",
   "execution_count": 20,
   "id": "2ceed335",
   "metadata": {},
   "outputs": [],
   "source": [
    "def precision(tp,fp):\n",
    "    p = tp/(tp+fp)\n",
    "    return p"
   ]
  },
  {
   "cell_type": "code",
   "execution_count": 23,
   "id": "6f8a3d4d",
   "metadata": {},
   "outputs": [
    {
     "data": {
      "text/plain": [
       "0.9635974304068522"
      ]
     },
     "execution_count": 23,
     "metadata": {},
     "output_type": "execute_result"
    }
   ],
   "source": [
    "precision(450,17)"
   ]
  },
  {
   "cell_type": "code",
   "execution_count": 18,
   "id": "92d6d91b",
   "metadata": {},
   "outputs": [],
   "source": [
    "def recall(tp,fn):\n",
    "    p = tp/(tp+fn)\n",
    "    return p"
   ]
  },
  {
   "cell_type": "code",
   "execution_count": 27,
   "id": "08eb3439",
   "metadata": {},
   "outputs": [
    {
     "data": {
      "text/plain": [
       "0.87890625"
      ]
     },
     "execution_count": 27,
     "metadata": {},
     "output_type": "execute_result"
    }
   ],
   "source": [
    "recall(450,62)"
   ]
  },
  {
   "cell_type": "markdown",
   "id": "e2042b26",
   "metadata": {},
   "source": [
    "### 3) Creating a Polynomial Regression find the output at 32,45 Do all the EDA Part,Value of Coefficient and slobe"
   ]
  },
  {
   "cell_type": "code",
   "execution_count": 46,
   "id": "4144f8d2",
   "metadata": {},
   "outputs": [],
   "source": [
    "x = np.arange(0, 30)\n",
    "y = [3, 4, 5, 7, 10, 8, 9, 10, 10, 23, 27, 44, 50, 63, 67, 60, 62, 70, 75, 88, 81, 87, 95, 100,108, 135, 151, 160, 169, 179]\n"
   ]
  },
  {
   "cell_type": "code",
   "execution_count": 47,
   "id": "8f6a96b2",
   "metadata": {},
   "outputs": [],
   "source": [
    "y = np.array(y)"
   ]
  },
  {
   "cell_type": "code",
   "execution_count": 48,
   "id": "fcae8e24",
   "metadata": {},
   "outputs": [
    {
     "data": {
      "text/plain": [
       "array([  3,   4,   5,   7,  10,   8,   9,  10,  10,  23,  27,  44,  50,\n",
       "        63,  67,  60,  62,  70,  75,  88,  81,  87,  95, 100, 108, 135,\n",
       "       151, 160, 169, 179])"
      ]
     },
     "execution_count": 48,
     "metadata": {},
     "output_type": "execute_result"
    }
   ],
   "source": [
    "y"
   ]
  },
  {
   "cell_type": "code",
   "execution_count": 49,
   "id": "cadc36b7",
   "metadata": {},
   "outputs": [
    {
     "data": {
      "text/plain": [
       "<matplotlib.collections.PathCollection at 0x2e31386e940>"
      ]
     },
     "execution_count": 49,
     "metadata": {},
     "output_type": "execute_result"
    },
    {
     "data": {
      "image/png": "[encoded data removed]",
      "text/plain": [
       "<Figure size 432x360 with 1 Axes>"
      ]
     },
     "metadata": {
      "needs_background": "light"
     },
     "output_type": "display_data"
    }
   ],
   "source": [
    "plt.figure(figsize=(6,5))\n",
    "plt.scatter(x,y)"
   ]
  },
  {
   "cell_type": "code",
   "execution_count": 50,
   "id": "989be0c2",
   "metadata": {},
   "outputs": [],
   "source": [
    "from sklearn import linear_model"
   ]
  },
  {
   "cell_type": "code",
   "execution_count": 51,
   "id": "007f4798",
   "metadata": {},
   "outputs": [],
   "source": [
    "model = linear_model.LinearRegression()"
   ]
  },
  {
   "cell_type": "code",
   "execution_count": 52,
   "id": "8916d29e",
   "metadata": {},
   "outputs": [],
   "source": [
    "x1 = np.array([x])"
   ]
  },
  {
   "cell_type": "code",
   "execution_count": 53,
   "id": "d4d23c05",
   "metadata": {},
   "outputs": [
    {
     "data": {
      "text/plain": [
       "LinearRegression()"
      ]
     },
     "execution_count": 53,
     "metadata": {},
     "output_type": "execute_result"
    }
   ],
   "source": [
    "model.fit(x1.reshape(-1,1),y)"
   ]
  },
  {
   "cell_type": "code",
   "execution_count": 58,
   "id": "aa02d729",
   "metadata": {},
   "outputs": [],
   "source": [
    "y_pred = model.predict(x1.reshape(-1,1))"
   ]
  },
  {
   "cell_type": "code",
   "execution_count": 59,
   "id": "c9355125",
   "metadata": {},
   "outputs": [
    {
     "data": {
      "text/plain": [
       "[<matplotlib.lines.Line2D at 0x2e313b891f0>]"
      ]
     },
     "execution_count": 59,
     "metadata": {},
     "output_type": "execute_result"
    },
    {
     "data": {
      "image/png": "[encoded data removed]",
      "text/plain": [
       "<Figure size 432x360 with 1 Axes>"
      ]
     },
     "metadata": {
      "needs_background": "light"
     },
     "output_type": "display_data"
    }
   ],
   "source": [
    "plt.figure(figsize=(6,5))\n",
    "plt.scatter(x,y)\n",
    "plt.plot(x,y_pred, color = 'red')"
   ]
  },
  {
   "cell_type": "code",
   "execution_count": 56,
   "id": "8ef3d29b",
   "metadata": {},
   "outputs": [],
   "source": [
    "from sklearn.preprocessing import PolynomialFeatures"
   ]
  },
  {
   "cell_type": "code",
   "execution_count": 57,
   "id": "299cf0b0",
   "metadata": {},
   "outputs": [],
   "source": [
    "poly_2 = PolynomialFeatures(degree=2)"
   ]
  },
  {
   "cell_type": "code",
   "execution_count": 69,
   "id": "406f75e1",
   "metadata": {},
   "outputs": [],
   "source": [
    "x_poly = poly_2.fit_transform(x1.reshape(-1,1))"
   ]
  },
  {
   "cell_type": "code",
   "execution_count": 70,
   "id": "53fca576",
   "metadata": {},
   "outputs": [
    {
     "data": {
      "text/plain": [
       "array([[  1.,   0.,   0.],\n",
       "       [  1.,   1.,   1.],\n",
       "       [  1.,   2.,   4.],\n",
       "       [  1.,   3.,   9.],\n",
       "       [  1.,   4.,  16.],\n",
       "       [  1.,   5.,  25.],\n",
       "       [  1.,   6.,  36.],\n",
       "       [  1.,   7.,  49.],\n",
       "       [  1.,   8.,  64.],\n",
       "       [  1.,   9.,  81.],\n",
       "       [  1.,  10., 100.],\n",
       "       [  1.,  11., 121.],\n",
       "       [  1.,  12., 144.],\n",
       "       [  1.,  13., 169.],\n",
       "       [  1.,  14., 196.],\n",
       "       [  1.,  15., 225.],\n",
       "       [  1.,  16., 256.],\n",
       "       [  1.,  17., 289.],\n",
       "       [  1.,  18., 324.],\n",
       "       [  1.,  19., 361.],\n",
       "       [  1.,  20., 400.],\n",
       "       [  1.,  21., 441.],\n",
       "       [  1.,  22., 484.],\n",
       "       [  1.,  23., 529.],\n",
       "       [  1.,  24., 576.],\n",
       "       [  1.,  25., 625.],\n",
       "       [  1.,  26., 676.],\n",
       "       [  1.,  27., 729.],\n",
       "       [  1.,  28., 784.],\n",
       "       [  1.,  29., 841.]])"
      ]
     },
     "execution_count": 70,
     "metadata": {},
     "output_type": "execute_result"
    }
   ],
   "source": [
    "x_poly"
   ]
  },
  {
   "cell_type": "code",
   "execution_count": 61,
   "id": "fa7e3171",
   "metadata": {},
   "outputs": [],
   "source": [
    "reg = linear_model.LinearRegression()"
   ]
  },
  {
   "cell_type": "code",
   "execution_count": 62,
   "id": "1550d001",
   "metadata": {},
   "outputs": [
    {
     "data": {
      "text/plain": [
       "LinearRegression()"
      ]
     },
     "execution_count": 62,
     "metadata": {},
     "output_type": "execute_result"
    }
   ],
   "source": [
    "reg.fit(x_poly,y)"
   ]
  },
  {
   "cell_type": "code",
   "execution_count": 64,
   "id": "ba0eda87",
   "metadata": {},
   "outputs": [],
   "source": [
    "y_poly = reg.predict(x_poly)"
   ]
  },
  {
   "cell_type": "code",
   "execution_count": 73,
   "id": "00127993",
   "metadata": {},
   "outputs": [
    {
     "data": {
      "text/plain": [
       "[<matplotlib.lines.Line2D at 0x2e313b12190>]"
      ]
     },
     "execution_count": 73,
     "metadata": {},
     "output_type": "execute_result"
    },
    {
     "data": {
      "image/png": "[encoded data removed]",
      "text/plain": [
       "<Figure size 720x648 with 1 Axes>"
      ]
     },
     "metadata": {
      "needs_background": "light"
     },
     "output_type": "display_data"
    }
   ],
   "source": [
    "plt.figure(figsize=(10,9))\n",
    "plt.scatter(x,y)\n",
    "plt.plot(x,y_poly, color = 'red')"
   ]
  },
  {
   "cell_type": "markdown",
   "id": "d06b927a",
   "metadata": {},
   "source": [
    "###  output at 32,45"
   ]
  },
  {
   "cell_type": "code",
   "execution_count": 66,
   "id": "047db2d5",
   "metadata": {},
   "outputs": [
    {
     "data": {
      "text/plain": [
       "array([206.69557445])"
      ]
     },
     "execution_count": 66,
     "metadata": {},
     "output_type": "execute_result"
    }
   ],
   "source": [
    "reg.predict(poly_2.fit_transform([[32]]))"
   ]
  },
  {
   "cell_type": "code",
   "execution_count": 67,
   "id": "887b04d8",
   "metadata": {},
   "outputs": [
    {
     "data": {
      "text/plain": [
       "array([385.68613539])"
      ]
     },
     "execution_count": 67,
     "metadata": {},
     "output_type": "execute_result"
    }
   ],
   "source": [
    "reg.predict(poly_2.fit_transform([[45]]))"
   ]
  },
  {
   "cell_type": "markdown",
   "id": "f140d99f",
   "metadata": {},
   "source": [
    "### Coefficient"
   ]
  },
  {
   "cell_type": "code",
   "execution_count": 68,
   "id": "cbb29f5a",
   "metadata": {},
   "outputs": [
    {
     "data": {
      "text/plain": [
       "array([0.        , 1.17020102, 0.16361433])"
      ]
     },
     "execution_count": 68,
     "metadata": {},
     "output_type": "execute_result"
    }
   ],
   "source": [
    "reg.coef_"
   ]
  },
  {
   "cell_type": "code",
   "execution_count": null,
   "id": "b170967b",
   "metadata": {},
   "outputs": [],
   "source": [
    "from sklearn.preprocessing import PolynomialFeatures"
   ]
  },
  {
   "cell_type": "code",
   "execution_count": 80,
   "id": "7d241ff9",
   "metadata": {},
   "outputs": [],
   "source": [
    "poly_2 = PolynomialFeatures(degree=15)\n",
    "x_poly = poly_2.fit_transform(x1.reshape(-1,1))\n",
    "reg = linear_model.LinearRegression()\n",
    "reg.fit(x_poly,y)\n",
    "y_poly = reg.predict(x_poly)"
   ]
  },
  {
   "cell_type": "code",
   "execution_count": 81,
   "id": "029a57c7",
   "metadata": {},
   "outputs": [
    {
     "data": {
      "text/plain": [
       "[<matplotlib.lines.Line2D at 0x2e313d9c310>]"
      ]
     },
     "execution_count": 81,
     "metadata": {},
     "output_type": "execute_result"
    },
    {
     "data": {
      "image/png": "[encoded data removed]",
      "text/plain": [
       "<Figure size 1080x864 with 1 Axes>"
      ]
     },
     "metadata": {
      "needs_background": "light"
     },
     "output_type": "display_data"
    }
   ],
   "source": [
    "plt.figure(figsize=(15,12))\n",
    "plt.scatter(x,y)\n",
    "plt.plot(x,y_poly, color = 'red')"
   ]
  },
  {
   "cell_type": "code",
   "execution_count": null,
   "id": "4ed0d48e",
   "metadata": {},
   "outputs": [],
   "source": []
  }
 ],
 "metadata": {
  "kernelspec": {
   "display_name": "Python 3 (ipykernel)",
   "language": "python",
   "name": "python3"
  },
  "language_info": {
   "codemirror_mode": {
    "name": "ipython",
    "version": 3
   },
   "file_extension": ".py",
   "mimetype": "text/x-python",
   "name": "python",
   "nbconvert_exporter": "python",
   "pygments_lexer": "ipython3",
   "version": "3.9.12"
  }
 },
 "nbformat": 4,
 "nbformat_minor": 5
}
